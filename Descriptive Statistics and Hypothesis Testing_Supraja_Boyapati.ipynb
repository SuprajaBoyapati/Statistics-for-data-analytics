{
 "cells": [
  {
   "cell_type": "markdown",
   "metadata": {
    "id": "pfQQWm-zQ8AY"
   },
   "source": [
    "## Crisp Chart:"
   ]
  },
  {
   "cell_type": "markdown",
   "metadata": {
    "id": "IkE85HZUQ3K1"
   },
   "source": [
    "![crisp dm.png](data:image/png;base64,iVBORw0KGgoAAAANSUhEUgAAAPgAAADLCAMAAAB04a46AAABDlBMVEX////2TU9fe7t2dnZ/f390dHT+R0n4TE55eXl/jIx/cXHpUlScpqb2S01Ydrl8fHyFb2/19/f7SUuqsrLTV1jLWVq+xsWmaWpWdLims9bk6OiruNlvh8C7u7v2QkTy8vKqqqrg5++enp7e3t7Hx8cAAAC0tLTV1dWLi4uXprCVlZWpsrLCXV7j4+PMzMy4uLiZaWqObG2Qm5u2X2CTpM/929v6qqv3dXb8uLhMbbX5kZL6n6D8wsL3Wlz6qarJz+GBlceZqND95eX5bG380tL3cHH2XmD6goOKjpn2LzJqg7/aVldAQED5n6D2HSH8ysr96+vjU1SsY2S/yODY3es6YbFhYWFOTk48PDwbGxu6cEcuAAAUIElEQVR4nO1dC2ObttqOA9TqhVBo05M44RIghnGG3XW1TTH2EpuYNp2P27WnZ9///yOfBL5gG4wAYaddny1xQoPQg/ReJL16dXT0Ez/xEz/xE8TA24euwYHAf1Mbh67DQcBTHPPPpE7R9D+QOi9rgKZD6rZ86MrsAw1DV1STBgxF0RE4imFo01LauvaDvgFNVExALcAtedPLiwxtNVs/FHveaJpzvqba1DVb5qFyC2mrNuz2tmaIikXP2av6jyH4Dd0KGdGqaMSaExLnKGvNmPO2HnUKhlaMfVeTMBqiyYREtlqRZ6BeS7iD18TwRQH1++XO62EHt8Skritb6a4bbyhhv1e06ipXHTQ1ZN3ii91uQ+6AMvWCtx8MLZMCTMlqa0rY7N+RquNF1FpK+WEIEhZAqd9LjxehZqZFQn1UsxhA7dAHDwc6B2nrBAtsKAxgHjx1A6pjukW4UBlSp5SH7NPZUCSJtvYCDRVSFysomAyasHbNisrWoE9AP0wtZ8BBl1phf2wBwCjVFV8YUA7pir1M+AjuoTmyNr2P5tD28pQ8aMO22IsAon71cFw5Ho6n1D09y4CucBV2owhsDlCkTXc60FtW9va0XdD33fug1TQfwKCtyVDWnh9pPARBVymmvfeHylC7H9iZMQ+javgDPXcJGlBl3jxffCUF9rTDMedpDpSSNZ1hCntiCsUcatQiQ94lffMytT8Yc54GdGmrooPiRllkDsK8JG/FtCz1l7aucqCwNRQPIucmiPdz4/ETTDyOtKHFhAAcTXMmKugVjVkA9Wb53OYBmFtrvO3ntUeYePok1IdXX79+NVq6xUFFwcA2118LuCV85pbPhXK+53GqCqj49N+zj/XaEizLzj9rCRBOl4LJi4i1KaI3+KZW3/jD5NtRCb+30upROdobb/rZ01Ut2doEfkH2kwEbfrJrHOof/724y2Ioujmv9+MtmoOBBO+V2K0XUP/11erJJuD26LcbDLUuW3HiUqc7qtUntXGvNxhL4xp7J40Hq3+uv1wSN2JLBeZme/dGvjuZTHz2bpP5GnHoQ5mV812gQQFl/coGcd8bdHyn73Q6/VnH86adYNWPY8Tj2Cbe/Q98g26nN5tJu4jLW5WpDvSWBVon7o687if3U9cZOo7vuZ2+563qjk284/VHqChntJP4kbbZ/SqDui1WEfFQnmvspDdh78aTuxrsqdLdYNATevWUFpeXaioivlAH8LPWu5Mmk8Hd4G7MrhRmAnFkzvei4PSE54TE2R6kKggslGshBFurC6wgscJgHEgCW6+z68Q1lVnaYTNqZnY8QCXcsfBG+FkLbxdq0vjuTggvJRCHLUFXyjiCTCUsaYTEpdnEHQZ9yfUHbu8umLhTfzAVgr4QOH2312eDYMKuiM9XQhd9x4ykRPKCwBVcX5pOgqDnOs4dvM+VXM8NUMlujU0gDmVPqZRzVMMkFzMi7g3caWfmdP3pbORNZ44L/3M+DZ1Qzw09z3OFBXFboQDNKTYvy/KVvCL+wUHq0O04zsgP/OG03/f7UMy7syH88IadSSJxrcQoDxdtQCXYzZB4PfA741m374+mHc+5G47c0aw784MufBmOHzi+vyTO09QiyI2JhhohcWE66/SGs+ns03DW9T84I3fme86sP/U7znTW7c5SiB81AajYmjeoxAnVSLkJoWoSkG6qox+lQajT6qFiqg88P9bVFcjcNE3I3qSXxOEdSIqlQU0YCKhXC7CEQW3h1I09P7mro35Y8fx2ygPeROYsctJYduGusXM9H/1ej1TTxxfhLTrDxWXGnLu5y0Jq62WFqEuJyg3Crriz61Ty1MOLU4HFxKPf59W2acCtzMObzxgl1MNvj/6VwLFZqWbnQYqvwHOnTzHx6+PlTRa1mittUC8xC/j815ukKtCgqhVqCCXVL+bbz7bxSwzLi3FbqMQmieUXCSUkYrujI8DxQ2Vr1FCQHubSfAirOv1WYdEE0KisWQwqb2dSKqlH6tOqGqCaeR1DiyH5eL7J7f4D6ExXYtJgg+fzjiyy00J2NPyU05cwmtU0uZnTXrwHNCA6UFbC4TBgUuWNr6TJtXwNzr9HE8cKyRrIFGgf2RS15ya3ckk4T3PhjDm552st1OQo6Cv9b6CUE1fsjVz+gcxxTBMyZ8iNmRhGlQHQmzsXXhTyBlfNVSTNMS0NcBzBBoADeEvlzN2apkGla4Bi4JlcGhryhgKnqiTjT9sMkh4a7Iwzskh77CKVS1yRzbGA2CTa81oMmrzYLXEGtUMFFAGdfwqXAy3C1dDQEmNGiRzZyLOctgwBGlWbZ8gOkmVoKzJ6Xrv4qnMSlPzL9zbSMzLpmTArqyIyWfVWIMbHoIh66guoWSJnklxX0QrIqk69J1eBGLL6kJ5PDe9GgZ5+1N57wGMEon29SDRbBU4UHgj2dbuIVVKp/Yd6htDJdTWxSDS6RcZrs1/g4d8vFoM2OH4j8WCEQp3nPRHirecvcfF84bnQpEblfKGJ2/dEXCiqjo/FzJRCag+YQRXxvwD1tfyj5ddCDRePfps3T4uUQWsXiroEJDpcowhxmZTrZBXqtLtanL+6uvr6xwJfr67SRCkkLtTny4nwm7AZ+7WKEVkSh0JOZhqA2THLlY7EFue/Xry9vD95B3G2RPjb8f3N+Zerzb8PibuBVBfYASTNjt2JUI/CRAS0hggvD3phjEicOCFLWsiKo/HhdoufQ4Ynxyk4OTl7d7ZxDyTODjpDJ3DvPg2GE2kWdHrBuF93+5Lb67njae0oCAK35rpCjLhOZjNYq5hD8D7BBl5c3F4en52cnWwBtTxs84s/1m8IiXv/6fQ7rn/ndD54M68TjDzPHw67n5yh63U7Pc/vOn5nwK6Ia4W08RaaxSLKk+z4/dnl7cXF+QX8Or99O8ft7Tm6Aq/d3L87X78hJD7yXRTz5kDis8mHjtSZBSO/O/vkDVCozNTx/b4zixPnKSKTnFYx3zdpvu0SdWjYuifH95cQNxDoE0o9bPATKAQn28Rr7KAmoWAQIYqXgAquNvHqUvgTijmB/4f/tCJ+RGaSs+BCkEK92Lp2mSbfSzlPIF6LhQKz82ARIby0iBCJwgJjxAu21Tqg31ao37QTNEwx4nntOJJOAr5bo+CEYdIgaV/Eiah1o6AD2EpQrbmJy789wif+fEm8aJ3XUPTt2QmOY27iR29OcTdsPDpdxQQVdD3WUVRekqaAjlO9lznvTXN2xL95joknsVgonoS3rsTMkv3mMSaeyUcJi9VX5zcnkfuyQTjyYY5vLrafz+NicUNL13UO6PCj3ChJXZmGxpPPdbwovvoplWRT5IvbyH25jQz4/cncnJ+Hly9u/9i8owBaDAA0DQAoGcVurRru2UdsHSv8+krZXlD/chyOTY6PL2+QxwZ9NvTt7c3N/TFy1N+dXeKM4bOcEzNKCMmV1OwxL+jN081BYSrqL8WE+YD7c+Ssvr25Xw7MFj/AN3F+/uXiZlPGEyAu5NdoJg+XjSgDaMkGb1FgKeP5iDe2NcwlkvBjyDF0zS8iRJ387Q1s9JOzbOLyskLttNQoYZOXbXC0MLvQG0vigjTv81tdv74k3obabfOdX8Z02SaSzVkiK2SrGs3IRZIT5jDCJmfKJVOAbggNFsP6BXHB9VxJEgRJ6sMvtO0Egg0vBOyC+Iuj7aCn/HZ8C/q8QhYjatR7lPMy4Y/gyyHQ4LDJN4hLvtAZO/2+584+OI47mA69rjNw3L4TfJrvMEPEt8NVyhPn0RI5Cq2BImhQ3JGaGOcEm7y0hCPiiyZfEod8fTgMrsORcbff9ZzR2JmhC5OZL7FL4sbWzH554hawTJpD8R4mZ3GcxiT3aJNIgy+lfEncmTkTb+p5zrA/8z+MJt5g6ASe6w0cpyssicNx3cYkWmniLegOmqCJgvy0MDAkJeRFKTkubc1TQ8+bfKncQpGWHPQpSb1Z+BtUeOhDWsn4kQk2Jv3uyxJH+eIsSgtj7sIIwpQ5JrXkagbKB0yjrNDRVM6GOZv3anZjB+SKeHtTAC/ebburK9LQ1h1nODBtNXQlG2jHuc2kq+5iM+IryNADhg4Mz8tJxHfb8VdhBPmGsZGRyQ79tHCuaTHNeIJ8uduLiy84lUKjprBYi0sNtixLHIEu6LmhDRSbBu3tfyHJS+i/nC+8l4UPA733S+jI/RfDZRWZX6IfGkxqHDcJ4mu++uau/lQI4RapzaDai4sbNLsc4iRq8uin6Mr97ReMUcrKZUnPS01iLWVtdPYUd3T2MmyMzb5+f3YTtTAcnd1DQMmG36Gffhtdvtwaj+9E+lwgKLT4sw4lth6TazyOQK/rdTS9jFr4Eo1Jwvn0cHgGx6jHYfvjuKxYIBEHU2rGUlzfBne5psPX3XQ8BwYPMokVhVIzljKzNg1TwIFpiLihILEHEZlzKzdjuR7tnZ+4zZzihoK8Xi1gEJllLTqvHkFbk7b8xB8/FXAjQUjPqxddSZljbTN/fuJP8OfVhd+XnZ3ISkrRtbM5WnE9Uynx+oo4kbWzsqVwsQHU/VkG8S07HifOzsM+oi3pW75UjDiZWJCS/UaM5Va4env87ix5mILiId5dnm9KVYw426uxgSBA2neCULsLWBQUUk8iTsSaFY6IWIJbGzNfff0CRyn3J8fvlkDL5dCh+fI1obYx4lLHcT8Jw9pd35tMa77bc4P6NBASiBOKiChrFPXkvbgoH0iInY0TJz7zfb/T8zuBN3I8z3O6I78Xywq0Ik4oBqZg1NMKZbK0xIn7d2PfcbpojsvrjWZOrzPsJhJXCMUPY4zx+F3SYJRISRSX8RpUaNIAzfFIKGcIlPC+4yURJxXnhhHZKDO70vxb2ztokqbDk7Cm1aMcUPOcIei7UI/N/iyJE4tsxIhlhepkR7CyzICNf9Su/3cdGcnr3QVn2PH4xMiSOBGHFQEjerkFaJqyUtVUG2yUoP15JF83vv3PUK4t8du39OKLODBFNpIkIzteXUQnFHLpBxzQ3LoSgMSPrhu6eA1bvKHT6S3E5QgF+WsubcTi1TF2KCjhpmku1dWxN5LNQeKta4VuIeJ/6ma6KL34CzsU5OO8lKQYlILItuQWWtZQLJD6hprrHr99ff233fqb/j/+72/qn+af6SU/e4IbC/J4LjCkrDhC5i4kGm3s5niFSTVrZtrcfybyhoKQ3HGXqS5QjDZKGpmupaBm3892LKL7zrJ2Gspod7lO7UxA02L2c5gR0Z2GWVGx0TRyRm9W9pP+n+je0qOEQJ416OhhNrN7u77Jkc5jkADCu4nx9o83d7cpD21euXEyBiXSW1rxMgZAU76LWYMplx9FxMjSRzhjAGaOCJnhdr5vrRRzjcnOBkA8RwRmVpAWtXso3GJA4V3lMsBwBYhnBcHNA6OC3d1RLM4cRzeSzwODvG2sImH1ds7XFGZucRjWsIpN65i5nnjAcTvfkM4U0u1qWp7MtYdXkOsJO51bI4sYYp67PypYx0RWk9ANN5+bkaW64R/kyB7LoRADBeuMs2ryueFn8GtlMbc5DvvILBEwPEpwhSO7FWXww8/ZmMmcN8GOiao1oMgmC+/4nKpyNubI0tnKFGOV4gCOHtIBkDF5V5elM0deVsg841wsqOJwTuKkOdPElIvq8rLmycSrZSowdEpdpoFCMaUc5jizynS5OTpTA3BZZ1Mp2V5WGElrYw3L8qfLzYHUbNsJkJECy/iTrDLCrQamSYP0ubwlKs22nZpfPREKxZWKIkH+LwQAgGIye1q1+dVzpuzXmXKNYADTUpW23jK0rBdoMxWZsgVSzlBIwdpIFqUCWUcjGUVEtfIzFFJOzcCAQf0LE78lZszfiepPzUg5JyUb8vP5cTnZeHT6LGfh+zgnJflknGy8+jXHFvi800d7ORkn8SykbLRPsWPda4+e5yt7P2chJZ5+lY1XeYg/yVX0vk6/SjrvLBsx4vX5VqV53qb5wTGFie/vvLOEE+6ysSJeD2ZeuFErQDmcJGkc9AfhPq5ixPd5wh1aAMz7klfEhf4scAZDx3MDp+c63rQzDHxn6jlSIeL7PNNw+xTLbMSJD6V+J3BG/cAPut7I7XqzsT8bdwoR3+8plgXOC10RZ3uwq3uS47jOEB2IFnj9idd3J90ixPd9bunmSbXZiCk3Fm3JDDdlhl91SUBbsNkiMr7/k2o3zybORCXm7BBnE+c9jToXcUwH5jCnUedkXkGLH+j88fBIEPzerr1+hLurRvj8OLu8A544HzHHjuh+8foUE79jhYkfkPcR8h7wV+nsV5ho4QiQijFHWyXMAz3/UM9dQaVKTqwVAZqTP/hZe01m76nzDQbQ5bdJl4a+72o0GWDu1T9Pg80BwjFWu8BbWGvlewGqy74OTDDAwdVaHG0GcHvRNsrDEO8VbKhnlcqfou3lKTmB2qLiISJ8RPq2l8PBgM2hVhie3AIPsLkjQDtD6tyGLWgmRe3a1HdY2CYF6Cp0bkOF7/SAY5JsGDRsGNJGXYbCTSnVB/mXg8hB6iRbvQFpM9aepxQLQQSQukjIqdQs2NrfBW0IXqQp2DfL15bXodKg1Aer0xLQgjVmTL1Us2sKBaE8KEcNA5qKqm1hTackwFZQryn56g4E1FERd3Fnm8nKljPGG5A1auzvqY+voyGaDEUxtNJKIS9vroXwmmgh0iA9S913goYeEqFoVTQ2TTGkDVYJHXhbV0yUHxO+qO+ddQTeaIadnqI4U23qmh2lQAlp0zQwGpohKlbYuyFpVf/e1NluaKIyZx/2ZMSYm2d9nV9jaKvZeuj+WUE0DF1RUWzqgnxInDYtpa1rPyjnNfCybdvNiDr4MeQ5D/iQesVBqA8TPBrC/xOJh9T/mcQh9R/Lev3ET/zETxwU/w9YG5HC/JMCtQAAAABJRU5ErkJggg==)"
   ]
  },
  {
   "cell_type": "markdown",
   "metadata": {
    "id": "MxNaV-QeqfbG"
   },
   "source": [
    "## Data Understanding:\n",
    "In this dataset, we have population data for every country/territory in the world by various parameters such as \n",
    "country/territory area size, name of the continent, name of the capital, density, population growth rate, ranking based on population, \n",
    "world population percentage, and so on."
   ]
  },
  {
   "cell_type": "markdown",
   "metadata": {
    "id": "wNjb0lCYrM5B"
   },
   "source": [
    "## Dataset Link:\n",
    "https://www.kaggle.com/datasets/iamsouravbanerjee/world-population-dataset"
   ]
  },
  {
   "cell_type": "markdown",
   "metadata": {
    "id": "VtuQyg_wRKpV"
   },
   "source": [
    "## Dataset:\n",
    "I have taken the world-population dataset to perform our operations in it. We searched for this dataset on various websites and found this on kaggle.com. The columns in the dataset show the population world over the years from 1970 to 2022 with growth rate and the specific country showing the percentage over the whole world population."
   ]
  },
  {
   "cell_type": "code",
   "execution_count": null,
   "metadata": {
    "colab": {
     "base_uri": "https://localhost:8080/"
    },
    "id": "UYjeecyOpbiI",
    "outputId": "d1c499a8-25eb-438b-cbfb-66053fc37f3f"
   },
   "outputs": [
    {
     "name": "stdout",
     "output_type": "stream",
     "text": [
      "Looking in indexes: https://pypi.org/simple, https://us-python.pkg.dev/colab-wheels/public/simple/\n",
      "Collecting rpy2==3.5.1\n",
      "  Downloading rpy2-3.5.1.tar.gz (201 kB)\n",
      "\u001b[K     |████████████████████████████████| 201 kB 4.5 MB/s \n",
      "\u001b[?25hRequirement already satisfied: cffi>=1.10.0 in /usr/local/lib/python3.7/dist-packages (from rpy2==3.5.1) (1.15.1)\n",
      "Requirement already satisfied: jinja2 in /usr/local/lib/python3.7/dist-packages (from rpy2==3.5.1) (2.11.3)\n",
      "Requirement already satisfied: pytz in /usr/local/lib/python3.7/dist-packages (from rpy2==3.5.1) (2022.6)\n",
      "Requirement already satisfied: tzlocal in /usr/local/lib/python3.7/dist-packages (from rpy2==3.5.1) (1.5.1)\n",
      "Requirement already satisfied: typing-extensions in /usr/local/lib/python3.7/dist-packages (from rpy2==3.5.1) (4.1.1)\n",
      "Requirement already satisfied: pycparser in /usr/local/lib/python3.7/dist-packages (from cffi>=1.10.0->rpy2==3.5.1) (2.21)\n",
      "Requirement already satisfied: MarkupSafe>=0.23 in /usr/local/lib/python3.7/dist-packages (from jinja2->rpy2==3.5.1) (2.0.1)\n",
      "Building wheels for collected packages: rpy2\n",
      "  Building wheel for rpy2 (setup.py) ... \u001b[?25l\u001b[?25hdone\n",
      "  Created wheel for rpy2: filename=rpy2-3.5.1-cp37-cp37m-linux_x86_64.whl size=310592 sha256=28a3ab169b50b812c49081a7bb58f50a18543ade8dbd4b5f36d7b8d85e5b6486\n",
      "  Stored in directory: /root/.cache/pip/wheels/65/df/9e/39aa22a3f47ec58751b5bf6907036fbc131d85b6d7cbd3b3fe\n",
      "Successfully built rpy2\n",
      "Installing collected packages: rpy2\n",
      "  Attempting uninstall: rpy2\n",
      "    Found existing installation: rpy2 3.5.5\n",
      "    Uninstalling rpy2-3.5.5:\n",
      "      Successfully uninstalled rpy2-3.5.5\n",
      "Successfully installed rpy2-3.5.1\n"
     ]
    }
   ],
   "source": [
    "!pip install rpy2==3.5.1"
   ]
  },
  {
   "cell_type": "code",
   "execution_count": null,
   "metadata": {
    "id": "_alvYBo1qK99"
   },
   "outputs": [],
   "source": [
    "%load_ext rpy2.ipython"
   ]
  },
  {
   "cell_type": "markdown",
   "metadata": {
    "id": "UfxDfunvq2sM"
   },
   "source": [
    "Read the dataset into variable worldpopn.\n",
    "\n",
    "\n",
    "\n"
   ]
  },
  {
   "cell_type": "code",
   "execution_count": null,
   "metadata": {
    "colab": {
     "base_uri": "https://localhost:8080/"
    },
    "id": "ks-jOLBUqOeA",
    "outputId": "4deb6379-aae7-492e-d711-6df9d3f9e8e0"
   },
   "outputs": [
    {
     "name": "stdout",
     "output_type": "stream",
     "text": [
      "  Rank CCA3 Country.Territory          Capital Continent X2022.Population\n",
      "1   36  AFG       Afghanistan            Kabul      Asia         41128771\n",
      "2  138  ALB           Albania           Tirana    Europe          2842321\n",
      "3   34  DZA           Algeria          Algiers    Africa         44903225\n",
      "4  213  ASM    American Samoa        Pago Pago   Oceania            44273\n",
      "5  203  AND           Andorra Andorra la Vella    Europe            79824\n",
      "6   42  AGO            Angola           Luanda    Africa         35588987\n",
      "  X2020.Population X2015.Population X2010.Population X2000.Population\n",
      "1         38972230         33753499         28189672         19542982\n",
      "2          2866849          2882481          2913399          3182021\n",
      "3         43451666         39543154         35856344         30774621\n",
      "4            46189            51368            54849            58230\n",
      "5            77700            71746            71519            66097\n",
      "6         33428485         28127721         23364185         16394062\n",
      "  X1990.Population X1980.Population X1970.Population Area..km..\n",
      "1         10694796         12486631         10752971     652230\n",
      "2          3295066          2941651          2324731      28748\n",
      "3         25518074         18739378         13795915    2381741\n",
      "4            47818            32886            27075        199\n",
      "5            53569            35611            19860        468\n",
      "6         11828638          8330047          6029700    1246700\n",
      "  Density..per.km.. Growth.Rate World.Population.Percentage\n",
      "1           63.0587      1.0257                        0.52\n",
      "2           98.8702      0.9957                        0.04\n",
      "3           18.8531      1.0164                        0.56\n",
      "4          222.4774      0.9831                        0.00\n",
      "5          170.5641      1.0100                        0.00\n",
      "6           28.5466      1.0315                        0.45\n"
     ]
    }
   ],
   "source": [
    "%%R\n",
    "worldpopn=read.csv('/content/world_population.csv')\n",
    "head(worldpopn)"
   ]
  },
  {
   "cell_type": "markdown",
   "metadata": {
    "id": "sLs--XZQubjQ"
   },
   "source": [
    "# Missing value imputation:\n",
    "\n",
    "1. Imputation is the process of replacing missing data with substituted values(mean, median, mode).\n",
    "2.By using is.na funcation we can able to check if there are any NA values in the dataset. Sum function is to get the sum of NA values, na.omit function is to remove the NA values in the dataset.\n",
    "\n",
    "\n",
    "\n",
    "\n",
    "\n",
    "\n"
   ]
  },
  {
   "cell_type": "code",
   "execution_count": null,
   "metadata": {
    "colab": {
     "base_uri": "https://localhost:8080/"
    },
    "id": "OX0DeTZhthA8",
    "outputId": "d4b9efc4-131f-4c3b-fd71-c53a7d157959"
   },
   "outputs": [
    {
     "name": "stdout",
     "output_type": "stream",
     "text": [
      "[1] 0\n"
     ]
    }
   ],
   "source": [
    "%%R\n",
    "X=sum(is.na(worldpopn$column_name))  #checking the number of null values in the dataset\n",
    "print(X)"
   ]
  },
  {
   "cell_type": "code",
   "execution_count": null,
   "metadata": {
    "colab": {
     "base_uri": "https://localhost:8080/"
    },
    "id": "xeY0HKj7uTal",
    "outputId": "886d709f-c5df-4b42-9b68-4489406f5f08"
   },
   "outputs": [
    {
     "name": "stdout",
     "output_type": "stream",
     "text": [
      "[1] 0\n"
     ]
    }
   ],
   "source": [
    "%%R\n",
    "X=na.omit(worldpopn) #removing null values using omit function\n",
    "sum(is.na(X))"
   ]
  },
  {
   "cell_type": "markdown",
   "metadata": {
    "id": "ETdOZrHKAMcq"
   },
   "source": [
    "## Descriptive Statistics & Analytics techniques:\n",
    "Descriptive statistics are statistics that summarize or describe the characteristics of a data set.\n",
    "It consists of measures of central tendency, measures of variability, and frequencey distribution.\n",
    "## Measures of Central Tendency:\n",
    "There are three main measures of central tendency- mean, median and mode.\n",
    "## Mean: \n",
    "Sum of the numbers in the dataset dividing by the number of numbers in the dataset.\n",
    "## Median: \n",
    "Median is the middle value in the dataset after arranging the dataset in to descending order to ascending order or ascending order to descending order.\n",
    "## Mode: \n",
    "Mode is the number that occurs most frequently in a dataset.\n",
    "\n",
    "\n"
   ]
  },
  {
   "cell_type": "markdown",
   "metadata": {
    "id": "RKcuew1Ozkn3"
   },
   "source": [
    "Compute the mean of **Growth** **Rate** in the world population dataset.\n",
    "\n"
   ]
  },
  {
   "cell_type": "code",
   "execution_count": null,
   "metadata": {
    "colab": {
     "base_uri": "https://localhost:8080/"
    },
    "id": "eVsu4CpCwPcB",
    "outputId": "e1868a6f-0463-46fa-97f7-74c244fcc827"
   },
   "outputs": [
    {
     "name": "stdout",
     "output_type": "stream",
     "text": [
      "[1] 1.009577\n"
     ]
    }
   ],
   "source": [
    "%%R\n",
    "worldpopn=read.csv('/content/world_population.csv')\n",
    "X=worldpopn$Growth.Rate\n",
    "m=mean(X)\n",
    "print(m)"
   ]
  },
  {
   "cell_type": "markdown",
   "metadata": {
    "id": "E_JolD99ycD0"
   },
   "source": [
    "Compute the median of **Rank** in the world population dataset."
   ]
  },
  {
   "cell_type": "code",
   "execution_count": null,
   "metadata": {
    "colab": {
     "base_uri": "https://localhost:8080/"
    },
    "id": "mtNPvgD6zD8J",
    "outputId": "a749233c-91c5-462c-d1fd-3648ee31c747"
   },
   "outputs": [
    {
     "name": "stdout",
     "output_type": "stream",
     "text": [
      "[1] 117.5\n"
     ]
    }
   ],
   "source": [
    "%%R\n",
    "worldpopn=read.csv('/content/world_population.csv')\n",
    "X=worldpopn$Rank\n",
    "med=median(X)\n",
    "print(med)"
   ]
  },
  {
   "cell_type": "markdown",
   "metadata": {
    "id": "Mad3RSNIJ6YU"
   },
   "source": [
    "Compute the mode of the **Continent** in the world population dataset."
   ]
  },
  {
   "cell_type": "code",
   "execution_count": null,
   "metadata": {
    "colab": {
     "base_uri": "https://localhost:8080/"
    },
    "id": "GCql7iNoDWx_",
    "outputId": "27f6939c-8cb2-4242-a4ce-e651f3e9fd07"
   },
   "outputs": [
    {
     "name": "stdout",
     "output_type": "stream",
     "text": [
      "[1] \"Africa\"\n"
     ]
    }
   ],
   "source": [
    "%%R\n",
    "worldpopn=read.csv('/content/world_population.csv')\n",
    "head(worldpopn)\n",
    "X=worldpopn$Continent\n",
    "t=table(X)\n",
    "mode=names(t)[which(t==max(t))]\n",
    "mode"
   ]
  },
  {
   "cell_type": "markdown",
   "metadata": {
    "id": "JvwcMwAVMBpg"
   },
   "source": [
    "## Measures of Variability: \n",
    "It describes the dispersion of the dataset. \n",
    "There are four main measures of variability- range, interquartile range, variance and standard deviation.\n",
    "## Range: \n",
    "Difference between the highest and lowest value in the dataset.\n",
    "## Interquartile range: \n",
    "Range of the middle half of a distribution.\n",
    "## Variance: \n",
    "Variance is the average of squared deviations from the mean.\n",
    "## Standard deviation:\n",
    "The square root of the variance is called standard deviation.\n"
   ]
  },
  {
   "cell_type": "markdown",
   "metadata": {
    "id": "zUDXmsir0pMy"
   },
   "source": [
    "What is the Range of **Growth Rate** in the world population dataset."
   ]
  },
  {
   "cell_type": "code",
   "execution_count": null,
   "metadata": {
    "colab": {
     "base_uri": "https://localhost:8080/"
    },
    "id": "pSEepeRlLm3R",
    "outputId": "2bb4afa4-9df9-4327-8fca-939ae15239fc"
   },
   "outputs": [
    {
     "name": "stdout",
     "output_type": "stream",
     "text": [
      "[1] 0.1571\n"
     ]
    }
   ],
   "source": [
    "#Range\n",
    "%%R\n",
    "X=worldpopn$Growth.Rate\n",
    "R=max(X)-min(X)\n",
    "R"
   ]
  },
  {
   "cell_type": "markdown",
   "metadata": {
    "id": "BDMNZJqw1GaP"
   },
   "source": [
    "Fiind Interquartile range for **Growth Rate** in the world population dataset."
   ]
  },
  {
   "cell_type": "code",
   "execution_count": null,
   "metadata": {
    "colab": {
     "base_uri": "https://localhost:8080/"
    },
    "id": "wPs7yCu3M4GW",
    "outputId": "c2a6c284-d6ff-47ba-dcd2-13c1d57cabda"
   },
   "outputs": [
    {
     "name": "stdout",
     "output_type": "stream",
     "text": [
      "      0%      25%      50%      75%     100% \n",
      "0.912000 1.001775 1.007900 1.016950 1.069100 \n",
      "     75% \n",
      "0.015175 \n"
     ]
    }
   ],
   "source": [
    "#Interquartile Range\n",
    "%%R\n",
    "X=worldpopn$Growth.Rate\n",
    "Q=quantile(X) \n",
    "print(Q)\n",
    "Q1=Q[2]\n",
    "Q3=Q[4]\n",
    "IQR=Q3-Q1\n",
    "print(IQR)"
   ]
  },
  {
   "cell_type": "markdown",
   "metadata": {
    "id": "r0c-eqxQ5ZFF"
   },
   "source": [
    "Find the variance of **Growth Rate** in the world population dataset."
   ]
  },
  {
   "cell_type": "code",
   "execution_count": null,
   "metadata": {
    "colab": {
     "base_uri": "https://localhost:8080/"
    },
    "id": "u7dYtDZmOm0K",
    "outputId": "ea9d905d-abc4-4e63-92c0-37155633101a"
   },
   "outputs": [
    {
     "name": "stdout",
     "output_type": "stream",
     "text": [
      "[1] 0.0001791578\n"
     ]
    }
   ],
   "source": [
    "#Variance\n",
    "%%R\n",
    "X=worldpopn$Growth.Rate\n",
    "V=var(X)\n",
    "print(V)"
   ]
  },
  {
   "cell_type": "markdown",
   "metadata": {
    "id": "BB5QSQe55rUE"
   },
   "source": [
    "Find the standard deviation of **Growth Rate** in the world population dataset."
   ]
  },
  {
   "cell_type": "code",
   "execution_count": null,
   "metadata": {
    "colab": {
     "base_uri": "https://localhost:8080/"
    },
    "id": "alzewFrqR9oW",
    "outputId": "c8e413d5-a63e-4b3b-c1be-6fb0da5eac4e"
   },
   "outputs": [
    {
     "name": "stdout",
     "output_type": "stream",
     "text": [
      "[1] 0.01338498\n"
     ]
    }
   ],
   "source": [
    "#Standard Deviation\n",
    "%%R\n",
    "X=worldpopn$Growth.Rate\n",
    "S=sd(X)\n",
    "print(S)\n",
    "\n"
   ]
  },
  {
   "cell_type": "markdown",
   "metadata": {
    "id": "KknswyVKVRtr"
   },
   "source": [
    "## Applications of numerical measures"
   ]
  },
  {
   "cell_type": "markdown",
   "metadata": {
    "id": "VEpAVmnBeucS"
   },
   "source": [
    "## Data Normalization:\n",
    "A z-score measures the distance between a data point and the mean using standard deviations. Z-scores can be positive or negative.\n",
    "\n",
    "*    z=x-mu/sigma:\n",
    "       mu=mean(x),\n",
    "     sigma=sd(x)\n",
    "\n"
   ]
  },
  {
   "cell_type": "markdown",
   "metadata": {
    "id": "-eEC66R67VFU"
   },
   "source": [
    "Use world population dataset consider Rank is the variable of interest. Normalize the Rank values and print out."
   ]
  },
  {
   "cell_type": "code",
   "execution_count": null,
   "metadata": {
    "colab": {
     "base_uri": "https://localhost:8080/"
    },
    "id": "6ampX3ZcTxmH",
    "outputId": "24d375a2-b85d-435a-e2a6-7c312f84c970"
   },
   "outputs": [
    {
     "name": "stdout",
     "output_type": "stream",
     "text": [
      "  [1] -1.203944236  0.302832599 -1.233488880  1.410756743  1.263033524\n",
      "  [6] -1.115310305  1.573252284  1.233488880 -1.248261202  0.332377243\n",
      " [11]  1.189171914 -0.923270120 -0.273287955 -0.391466531  0.864180832\n",
      " [16]  0.539189750 -1.617569250  1.011904051 -0.317604921 -0.539189750\n",
      " [21]  0.878953154 -0.598279038  1.307350490  0.701685291 -0.553962072\n",
      " [26]  0.288060277  0.391466531 -1.632341572  1.528935318  0.849408510\n",
      " [31] -0.140337058 -0.878953154 -0.583506716 -0.657368325 -0.952814764\n",
      " [36] -1.159627270  0.790319223  1.292578168 -0.007386161 -0.716457613\n",
      " [41] -0.775546901 -1.720975503 -1.322122812  0.672140647  1.558479962\n",
      " [46]  0.096020092  0.184654024 -0.480100462  1.056221017  0.598279038\n",
      " [51] -0.435783497 -0.036930805  0.627823681  1.277805846 -0.494872784\n",
      " [56] -1.514162996 -0.746002257 -1.528935318 -0.081247771  0.509645106\n",
      " [61]  0.214198668  0.568734394  0.613051360 -1.558479962  1.676658538\n",
      " [66]  1.351667455  0.657368325  0.007386161 -1.395984421  0.982359407\n",
      " [71]  0.967587086  0.421011175  0.361921887  0.199426346 -1.455073709\n",
      " [76] -1.041448695  1.499390675 -0.406238853  1.336895133  1.115310305\n",
      " [81]  0.893725476  1.085765661 -0.731229935  1.322122812 -0.627823681\n",
      " [86]  0.465328140  0.686912969 -0.524417428 -0.421011175 -0.199426346\n",
      " [91] -0.347149565  0.908497798 -1.706203181 -1.676658538 -1.484618353\n",
      " [96] -1.218716558  0.110792414  1.248261202 -0.288060277 -1.366439777\n",
      "[101] -0.967587086  0.317604921 -1.573252284  1.144854949 -0.509645106\n",
      "[106] -0.760774579 -1.336895133  1.100537983  0.169881702 -0.110792414\n",
      "[111] -0.214198668  0.494872784  0.022158483  0.435783497  0.051703127\n",
      "[116] -0.155109380  1.455073709  0.347149565  0.746002257  0.731229935\n",
      "[121] -0.997131729 -0.819863866 -1.070993339  0.834636188 -0.864180832\n",
      "[126]  0.819863866  1.440301387  0.923270120  0.125564736  0.583506716\n",
      "[131]  0.952814764 -1.588024606  1.130082627  0.258515634  1.469846031\n",
      "[136]  0.243743312  0.760774579  1.661886216 -1.144854949 -1.026676373\n",
      "[141] -1.351667455  0.406238853  1.588024606 -1.011904051 -0.686912969\n",
      "[146]  0.997131729  0.081247771 -0.169881702 -0.938042442 -1.647113894\n",
      "[151]  1.691430859 -0.908497798  0.480100462  1.366439777  0.036930805\n",
      "[156]  0.140337058 -1.661886216  1.543707640  0.066475449  0.155109380\n",
      "[161] -0.361921887 -0.125564736 -1.085765661 -1.543707640 -1.189171914\n",
      "[166] -0.376694209  0.273287955  0.376694209 -0.051703127  0.642596003\n",
      "[171] -0.790319223 -1.602796928 -0.613051360  1.632341572  1.381212099\n",
      "[176]  1.070993339  1.514162996  1.647113894  1.203944236  1.041448695\n",
      "[181]  1.484618353  1.026676373 -1.130082627 -0.672140647 -0.184654024\n",
      "[186]  1.159627270 -0.228970990 -0.066475449  1.425529065 -0.022158483\n",
      "[191]  0.450555818  0.716457613 -0.701685291 -1.381212099 -1.307350490\n",
      "[196] -0.465328140 -1.292578168 -0.834636188 -1.263033524  0.775546901\n",
      "[201] -0.450555818 -0.243743312 -0.849408510 -0.893725476 -0.332377243\n",
      "[206] -1.410756743 -1.440301387  0.553962072 -0.258515634  1.706203181\n",
      "[211]  1.174399592  0.524417428 -0.568734394 -1.469846031 -0.096020092\n",
      "[216]  1.395984421  1.617569250 -1.277805846 -1.174399592 -0.302832599\n",
      "[221] -1.425529065 -1.691430859  1.218716558  0.228970990 -1.100537983\n",
      "[226]  0.938042442  1.720975503 -0.982359407 -1.499390675  1.602796928\n",
      "[231]  0.805091544 -1.056221017 -0.805091544 -0.642596003\n"
     ]
    }
   ],
   "source": [
    "%%R\n",
    "worldpopn=read.csv('/content/world_population.csv')\n",
    "X=worldpopn$Rank\n",
    "Z=(X-mean(X))/sd(X)\n",
    "Z\n",
    "#df=data.frame(X,Z)\n",
    "#head(df)"
   ]
  },
  {
   "cell_type": "markdown",
   "metadata": {
    "id": "oxZlVporepFf"
   },
   "source": [
    "## Data Scaling:\n",
    "Data scaling is a method used to changing or adjusting the range of your data."
   ]
  },
  {
   "cell_type": "markdown",
   "metadata": {
    "id": "ldoFHWQ78Oe3"
   },
   "source": [
    "Convert the variable 2022 population in world population dataset to the scale(0,1)"
   ]
  },
  {
   "cell_type": "code",
   "execution_count": null,
   "metadata": {
    "colab": {
     "base_uri": "https://localhost:8080/"
    },
    "id": "wAW1tYxEXvZy",
    "outputId": "47e64f79-7d2c-412d-cf06-c07714fa0736"
   },
   "outputs": [
    {
     "name": "stdout",
     "output_type": "stream",
     "text": [
      "         X            Y\n",
      "1 41128771 2.884399e-02\n",
      "2  2842321 1.993013e-03\n",
      "3 44903225 3.149108e-02\n",
      "4    44273 3.069178e-05\n",
      "5    79824 5.562433e-05\n",
      "6 35588987 2.495884e-02\n",
      "[1] 1\n"
     ]
    }
   ],
   "source": [
    "%%R\n",
    "X=worldpopn$X2022.Population\n",
    "Y=(X-min(X))/(max(X)-min(X))\n",
    "df=data.frame(X,Y)\n",
    "print(head(df))\n",
    "max(Y) "
   ]
  },
  {
   "cell_type": "markdown",
   "metadata": {
    "id": "nxBqYhg1eysX"
   },
   "source": [
    "## Outlier Detection using Z-Score:\n",
    "Outlier detection is the process of detecting and then eliminating outliers from a set of data."
   ]
  },
  {
   "cell_type": "markdown",
   "metadata": {
    "id": "3FovfaJC-HJp"
   },
   "source": [
    "One sigma standard interval:"
   ]
  },
  {
   "cell_type": "code",
   "execution_count": null,
   "metadata": {
    "colab": {
     "base_uri": "https://localhost:8080/"
    },
    "id": "JYbE3e6XeB-L",
    "outputId": "314fdf57-073c-45c7-a21f-0e517e70abf3"
   },
   "outputs": [
    {
     "name": "stdout",
     "output_type": "stream",
     "text": [
      "[1] -98675037 162134949\n",
      "[1]  205188205 1393715448 1322866505  259091970  183995785  210969298  324607776\n"
     ]
    }
   ],
   "source": [
    "%%R\n",
    "X=worldpopn$X2015.Population\n",
    "\n",
    "Lbound=mean(X)-sd(X)\n",
    "Ubound=mean(X)+sd(X) # one-sigma interval estimation \n",
    "print(c(Lbound,Ubound))\n",
    "\n",
    "Out=c() \n",
    "for (j in X)\n",
    "{\n",
    "   if(j<Lbound|j>Ubound){o=j}else{o=NULL}\n",
    "   Out=c(Out,o) \n",
    "}\n",
    "print(Out) "
   ]
  },
  {
   "cell_type": "markdown",
   "metadata": {
    "id": "OGb_xmmr_XjL"
   },
   "source": [
    "Two sigma standard interval:"
   ]
  },
  {
   "cell_type": "code",
   "execution_count": null,
   "metadata": {
    "colab": {
     "base_uri": "https://localhost:8080/"
    },
    "id": "vSa3eWa9gwEy",
    "outputId": "9493877f-4a13-430a-ee10-a245b3bc596c"
   },
   "outputs": [
    {
     "name": "stdout",
     "output_type": "stream",
     "text": [
      "[1] -229080029  292539942\n",
      "[1] 1393715448 1322866505  324607776\n"
     ]
    }
   ],
   "source": [
    "%%R\n",
    "X=worldpopn$X2015.Population\n",
    "\n",
    "Lbound=mean(X)-2*sd(X)\n",
    "Ubound=mean(X)+2*sd(X)  \n",
    "print(c(Lbound,Ubound))\n",
    "\n",
    "Out=c() \n",
    "for (j in X)\n",
    "{\n",
    "   if(j<Lbound|j>Ubound){o=j}else{o=NULL}\n",
    "   Out=c(Out,o) \n",
    "}\n",
    "print(Out) "
   ]
  },
  {
   "cell_type": "markdown",
   "metadata": {
    "id": "S3MRQzHVBHN6"
   },
   "source": [
    "Three sigma standard interval:"
   ]
  },
  {
   "cell_type": "code",
   "execution_count": null,
   "metadata": {
    "colab": {
     "base_uri": "https://localhost:8080/"
    },
    "id": "2kHmhmgEAKdA",
    "outputId": "f2e7badb-021c-4f25-e73f-b30c74f7aed3"
   },
   "outputs": [
    {
     "name": "stdout",
     "output_type": "stream",
     "text": [
      "[1] -359485022  422944934\n",
      "[1] 1393715448 1322866505\n"
     ]
    }
   ],
   "source": [
    "%%R\n",
    "X=worldpopn$X2015.Population\n",
    "\n",
    "Lbound=mean(X)-3*sd(X)\n",
    "Ubound=mean(X)+3*sd(X)  \n",
    "print(c(Lbound,Ubound))\n",
    "\n",
    "Out=c() \n",
    "for (j in X)\n",
    "{\n",
    "   if(j<Lbound|j>Ubound){o=j}else{o=NULL}\n",
    "   Out=c(Out,o) \n",
    "}\n",
    "print(Out) "
   ]
  },
  {
   "cell_type": "markdown",
   "metadata": {
    "id": "Vqa84Z5dBnMn"
   },
   "source": [
    "## Outlier Detection using Boxplot technique"
   ]
  },
  {
   "cell_type": "markdown",
   "metadata": {
    "id": "8mPVzDOHT2v1"
   },
   "source": [
    "## Boxplot : \n",
    "By using Boxplot we can detect the outliers when we divide the dataset from minimun to maximun. \n",
    "\n",
    "Here we have taken 2015 population column to check the outliers. "
   ]
  },
  {
   "cell_type": "code",
   "execution_count": null,
   "metadata": {
    "colab": {
     "base_uri": "https://localhost:8080/"
    },
    "id": "aUWWbxNaBz65",
    "outputId": "e7db9616-7c9a-4333-bbcb-70ef98ffe0f9"
   },
   "outputs": [
    {
     "name": "stdout",
     "output_type": "stream",
     "text": [
      "      25%       75% \n",
      "-28584591  48720120 \n",
      " [1]  157830000  205188205 1393715448   78656904   97723799  102471895\n",
      " [7]   63809769   82073226 1322866505  259091970   81790841   60232906\n",
      "[13]  127250933  120149897   51483949  183995785  210969298  103031365\n",
      "[19]  144668389   55876504   50994401   52542823   70294397   79646178\n",
      "[25]   65224364  324607776   92191398\n"
     ]
    }
   ],
   "source": [
    "%%R\n",
    " \n",
    "X=worldpopn$X2015.Population\n",
    "Q=quantile(X)\n",
    "Q1=Q[2]\n",
    "Q3=Q[4] \n",
    "IQR=Q3-Q1\n",
    "LW=Q1-1.5*IQR\n",
    "UW=Q3+1.5*IQR\n",
    "print(c(LW,UW)) \n",
    "outliers=c()\n",
    "for (i in X){\n",
    "    if (i<LW || i> UW){o=i}else{o=NULL}\n",
    "    outliers=c(outliers,o)\n",
    "}\n",
    "outliers"
   ]
  },
  {
   "cell_type": "markdown",
   "metadata": {
    "id": "yZ048FAVD6Q-"
   },
   "source": [
    "## Probability Distributions:"
   ]
  },
  {
   "cell_type": "markdown",
   "metadata": {
    "id": "nzwciZ0mXPp9"
   },
   "source": [
    "## Normal Distribution\n",
    "Normal distribution or bell curve A normal distribution, is a type of continuous probability distribution for a random variable with real values. Normal distribution is used to repressent the real valued random varibales whose distributions are not known. The probability density function's general formula is \n",
    "\n",
    "![image.png](data:image/png;base64,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)\n",
    "\n",
    "Heref (x) = probability density function\n",
    "       mu = mean of the distribution\n",
    "    sigma = standard deviation"
   ]
  },
  {
   "cell_type": "markdown",
   "metadata": {
    "id": "z8gQjq7rDOnA"
   },
   "source": [
    "Use world population dataset, consider Growth.Rate as the variable of interest. Model this variable using normal dist, and find Pr(0.91< X <0.99)\n",
    "\n"
   ]
  },
  {
   "cell_type": "code",
   "execution_count": null,
   "metadata": {
    "colab": {
     "base_uri": "https://localhost:8080/"
    },
    "id": "CCdIxdbLHvt3",
    "outputId": "471ad652-bd37-423d-9f53-88eaa20d2e2b"
   },
   "outputs": [
    {
     "name": "stdout",
     "output_type": "stream",
     "text": [
      "[1] 0.0717836\n"
     ]
    }
   ],
   "source": [
    "%%R\n",
    "head(worldpopn)\n",
    "X=worldpopn$Growth.Rate\n",
    "mu=mean(X)\n",
    "sigma=sd(X)\n",
    "pnorm(0.99,mu,sigma)-pnorm(0.91,mu,sigma)"
   ]
  },
  {
   "cell_type": "markdown",
   "metadata": {
    "id": "qRM62Xh7Y7i9"
   },
   "source": [
    "## Poisson Distribution\n",
    " \n",
    "It is the probability of event occuring number of times in a given interval of time. It takes only 1 parameter lamda. it is also called as discrete probability distribution. Formula of poisson distribution is given below\n",
    "\n",
    "![image.png](data:image/png;base64,iVBORw0KGgoAAAANSUhEUgAAAVsAAACRCAIAAADiqYzcAAAgAElEQVR4nO2deXgURfrHv9XV3TOTSUJuCAlXkEMgiCRciiQLAgqsCnKpi4qIrC5euOJyebsgroqKCIoiuq4rKF6AgIDCDwUxoALh8AAMJESOXGQyM91dXb8/eiaTQAITCGSSrc8zD08P093Tnan6dtVb70E2f5UHgUAgAABIdX0BAoEghBCKIBAIAghFEAgEAYQiCASCAEIRBAJBAKEIAoEggFAEgUAQQCiCQCAIIBRBIBAEEIogEAgCCEUQCAQBhCIIBIIAQhEEAkEAoQgCgSCAUASBQBBAKIJAIAggFEEgEAQQiiAIHgmQAA7iBRgAcFrDJiQF9ifstE+5/18OTs/zWgXnhlzXFyCoPxAdpgo4wBVZkQkxdd0AzBqfx+rtXAY4CAcnAAExAYBLIKZPbgR1gVAEQdCYKohR4jr81D8flmV5yODrr+wxCNxRE1EwAVCZUgrNC5uDGzphBgFgs8Pr1UGgKqqmkapGEIKLARGZVwVBwwEKorvcxcs+WThvwZyUVu0XvPJRuDM2aFGQHA7lm61rNm5aGRsdm3MoZ9zt9zdr2lE3Tr77/kvWHklNL+mbcb2YNdQVwo4gCB4CmOCK0x53x5jpnTul7T+w9/6HRyqKDEgg3uoPZCAMhNlstqWfvlBUeOKBu5+7Y8z0G64bPXRkRqk3b868R/v3G3rHmOmNGsVNe2xi9t7NlApFqBuEIghqim84oKphAHbvyf5x13pKCbijmubEAQlckalzc9aqMHviwH6jAaYbJzu27wYgs1/n/n3/nJyYaphFM2dPB0CJkxDlot2PoCJCEQTngAlg6PWjrDdfrv+cUoBL1c8dKDgxWPGGDav69hmqa5aNQHa5XQDatmvTsX03QweAZ56Y+69nX+3cKd0wtAt/F4IqEIogOBd03UhP62Vtf/X1isKSY1Tm/uXDUyAAQIzjhTmXde4myw5IGrgM01lUnAPgyp4DFTkC0Dlz9L3q5j/1Hq55cS5LGILaQCiC4BxpHNcys88AAEePFuz7ZecZ9zUBEhfVrm+foYbhBlcAyAo2b9kEID3tSsByTyAgHk1jYqGhDhGKIDgHOADD4EMGX2+937BhlaJy33CgWkyA+IcM3GCuXbt/BHBJSltdNy7wBQuCRSiC4Nwwdc3s3Wug9WbZ8sVHj+cG0Zwsn0XLB8lYvWZl7yv6RoYniDlC6CAUQXBucBDTrkbfMvJvAAwvsrN/VFXr+c8qexNwwO/vzCVwAnBK5b37dgNo06aDwx4GTn3Oy4SBeEGYaJl1hfi7C84Ba/BvappxRe/e1n+t37BC0zVwu3+HU47gNjsgeUEMgBKi/PzbDwCu7NVH1wkIByil8ubv1mzfsQVcEY7MdYVQBMG5wxhP69LN2l6+cpnLXQzA/8AvhwISiHvpxwufmX2/y1MITqisfbD0DQCNGzc2/MERzNS2bN3YtXNPcBXErGblQnBhEYogOB9MWYoae9tE682W71YratU9Of9ozszZ05evXOZ164pKt/+0sXXrNtZH1rKlw6F8tnLxgP6DqRQGWCFVZ7ZTCi4IQhEE5wPXNenKXn2sN6vWrDBN5otiDGACiIiIBTBl8tPxTcIOHt76zeaNzzz5av+rr172yVJmlrk8ha+98UxsbHTXy/owZlkTxAChbhCRToLzg9uJXDD8pozDubkAViz7ISY6DlAqLB9YNgJSWHL4641f5P+Rn9rh8t5X9WaeeEiuzd+t2ZH9TWxMk8yMgYnxHXXhjFDXCEUQnC+qSv+z9KXn5/wTwEMPTL1p+CRd95425pcAKIoMgHPJ0AGpGGaYrCgADB2AAWKKZcg6R8waBOeDBIAQ1Yp6AvDv/yyQ5Srn/wwwdV3TdbfBXJCKYTYC0QzDZRgeSMUg+kW8bEG1CEUQnBeqSt9Y/PiX6z+xPJr/OHri14PfWX7KlSmXCQpOwW0gHoACVj4lmy/UWlDXCEUQnAOSlRPN7sDc1596bcFLs556u9yjeemy9x1hIrtBfUUoguDc4HYHfWPRrEWL537435UxjZJSO/a0PvhgybserbABNy1KKaU1TTlbb2iYdyW4YFiJkomi0jcWzZq3YM6iBStSWnT1et3xsUnWxAHAjzs3y7Lqd1VqMG1MAqcA++W37P/7ZlWJK9dmlwL5qRsKDebXElwcKEAVlR7Ky563YM6UyU9ffllPr8cEYDL5usG+HCoffbxYUTiggJjgDcbRyPKSkBo3Scj7Y9/AIWnvffCyzV7+qdQwelNDuAfBxYIDUFVyKC976MiMUSPHjBx2p9vtWyPQdaNz5x7W9lf/t/aP4wcBA1xqWL5GDCBOe9yIYXdk9hnw/Jx/bv9poy++C2gYllGhCILgoYoi5+TuHTEmA8D4sY94yio+/82YRklDBg0DYHixM3uLrDSs3P++BRQGTmQpyrKkfvLpRxLlvhWTBjF3+F9TBF7zMkRnPaXsn0k2hAZRDRyQFEW2RgeGF08//nxMVBwIrxikyBi/9poR1vaX61bIigbuaDhRjMTK+CKBcF03Ujv2jAiLWv7FBycKj4MTQPfrQv3mf0cRLJOYA0Att1HJCwDc0TAaxGlYpkEqy+qRY9lDR2YAuHvC/YOvucXrPtVAYBha186+FYfVa1YePZ57sS/2wmJNCnx+EwlxSRmZfQHs2PEdldFgulIDuY0gIABUmw7pAiT5JW4QV8OYRlaJqpKC4gN/HpoBILPPgNtuubfyfKEc06YGQiG/3rDKZm8wZsVTMHWN3HDdaABvvztPUa2JQ0MYDdVTRZBOe51hT+5bNyLaPx67Ze++HbLsqM1rMW3HC3MefWZsqavQv0zdkKYPVFHk44WHBw5JA5CclDTzyQXciAExQKy8BhVHRszr4YOvHWS9+b9v1nm9pQ00qJkzg3Tq0DU5KWnHrm1Hj+eCNxCfy/qiCP5eDagqBdFLXScKCo+A6LKsgld/F1wF0cBVl/fYw1PHjRp+V6cOvQzDXbvX1jSh/b33TL1lXPcS1zH/NzYco9qhvOzBN6ZZ228u+AzcAeIJ5FCt1A0kAK1bdk1OSgKw6dv1+cf2y7L91DM2FFQlvP/VQwF8vfEL1QagIVSdqS+KQK11LLtD2rBp+bi7r5k95/7XFj415dFxW39YbXOY1d4I0WA6bQ7tuRcnXzNgcJdOfQ1dPy2A//yQNM2rJMZ3efLR+Tff3gNSMbgDpIEkF6aUbPvxB8MLAIsWrIiOTAZwxkGQ7vHo06fOst68+fZLBiuuP82sJhDT0ImVG+LTz9+v66upNepTNDShZQvenLNo8dyF85dcnppBJP7RZ688M/OZj5dsSE5MNQxPVQdJqkr+s/SlfT/vfXLGPK9bheQCV2p1gMfBZSuP4IKFs3OPHHz0H68x1hCmlAAAidDSdV+tatO6U0rLTv406tX89Qizluhsdmz+/qvDh/ZTxTl4wPU1rB9dX5AA2OzI6Nf+ZFnRkn9/3SypfQO4TXrn7Q/V9TUEg2Szk9Vrl77w0tNjb5t4w+A7CaHPzpn02oK5AKIiY3p0u8owyjthebkxKsvqwcPfP/j3v857eanEnSA6iA4otTrVpyA6iMl0uXu33n+fMu7S9pe2apFqmgYg+UfX9deyQMBpuzap4WEJpqmfpcUTDhBwiTE0S2rXoX3apW07MibXdT+RwKUaDgwpYPpzPVZXzBIAoRJhKP1+25Zmya26dO5pMtR3j6x6MpzjkqaXTn/8IQDpaVcyxonk/WDJu9aH7dp2NIwKP0O52ywnkqSPvm3QlIefiY6M9yXn4bbabqCmL8KXMMawcP6SSY+MKy7N8wtTfc8CYgJE05h/HnRGM6GVlJ0wwDQMj65rmsbq9Pat5s0gaYpiK3/JsqO6l/9TVZYdMnVWbxowwWVVJXlH965aswrAqi+X6Ia7vssBgPphAKMy37R5g7XdMrk95zqA22+9Y+261f2vHtqrxwBdY4G2aj2pwFUbPvz0DcOL6wbfrGkX46dijKd16ZOenv7ef+dPvGuGpsEvQw3SVSH0MQGAaNt3bNmVvYXUZNWDgyc3bdM3Y3B1Ux5FlXJys8f/ddTK5RsGDcnYvSc7/+j+Jgkp/tTy9XWFpX6MEWSFb9m6EUDbdm1sDoUx7nHj3gkzl7636d4JT4ErlS15vvofml42c/b0KZOfVuSIi7VWrBu6eufY+xctnpt3dC+lFKYq5KDuYOCUSmEASgqN4kI9+NeJ40VurwFUOeWRZNl58PDWoSMz3pj/gSrFjR93L4DPViwllrtafSb0xwhW3y5d8tFiAG1bp0ZHxmsaAyRN44DD69GqmCJyicpk4+ZPAPTtM/QilhVUDF2/rGPvxgmxK1ctG3vLVEABtAbqzhj6SCCcMbNnWt9e6dfU6EjTZAB0fy0JAH7bAVUU+VDezuGjBy2cv6R5Unt3GenerTeADRs/v3nE3eFOh88MUT8J/TGCSSkpLim23iQltqTUUjH/FN2XurfiII0AUFT+1tvzBg4YFBvT9OKN4ogOYihyxI1Dx7y24CVmlgFGvR0/NgB8XkOaxrxed41euq7pulapYxMTXFEUOe/ojqEjM555Yu7lqRmaZgBGk4Tm6enp+w/8fjj3oL991ldCXBEkgFGKX/f/bL3vfFk3TTvrA1+iMj+Ys2/3nuyB/W5kjPtPdXEwOZcyr7oBwPYdWxRVOpMDlaAewSVFlU4U/X7dsL6333rHNVeP0LwKQEEMKoX1/9NQABu//YJS1N8BAkJYEQKGQE3XfvvVpwhNmzT19/AzQSm2fr8JQOfOPYxKA7+zcrpzdMU/0dkCHE0bIBk6YmLjEhJisrZ9U1WeckGtc1FiT7limEUDh6QNHDDo3gkzNc0AsZxfGTNIv77XA1i0eK6mafV5sTkUFcG6JEopVRRZURx2u7Jx01oAKa3aN0lIAVdl2X7mRHdE4l9+9bFsQ0yjJKv0aLWiwMsjETil1Gaz1iaZosjgxF/OmAKSoqjgcqmrSFWpPwL6tKgKYgAExBMTFdc9PXPR4rmEuoVlsVbxd34ul/8uiiIDtNRVRClVFLU8MWwt90zJ+/SsyclJSU9Mf1nTeAU/bgVEdzoaDbl2FIBvtn6mqvV44hB6l84JiASif7ZiBQBQj11l+/butD5cseaj8h17pWfExzU93TuQUnLkSF5WVtaokWMs+9CZ8BUmp6pKcnL3frp88a7dOwC0Trl0xLCbWjVL03QvlVRmuv+z5J2tWRtKSoqbN28xZPDQLqm9OLNVLl5U4SZMktqp6/KVy47k5yYnplbwnhKcJ/4kBeCqDYUlx9et/HRn9rb8/GN2uxIVFdU3Y3Bmn8Fet8+RtLYG8Iqizn7xoeUrl33+8QZuRFZY2/Kdn0rqtdfesPyLD75ct6JPr+G18qV1QugpAgg4vGbhd9s+BCBJ6omCoyfLigDExIZ/n7XG2snrMVo2bxoTnXj68ZTCVVYMoM0laUF8HQMkuwNLlr3x5fpP/nrn5FtGPkQoX/bJwuGjB73w7JtXXTG0uDRv0sO3jRx+82NTXyGU/7r/h7/+bcxDD0y9ZdR9Xo/l1nbqvIAxtE5pC+DAgV+bNe14Pn8OQWV8vsPHThx+a/6cD5a8O/a2ibffemej8BYACouOzX5hxpatG6c8/KyndsPZgMs6d2ud0jY5sZ3HXVFlLNGRGONdO/d86IGpB3J+KSw5HOlMqqfWhNCLayAMpg2QFdXkXCLE/HHX+jv/OhLAqy+/3yv9GtNk1pOfEKXKWAZK6ZdfLZ322MRXX36/W5e+Zwsx4Ipi++iz+Tt3bZ82+SWYTl+5MeIeMOjyk2VFq5dve+HlGdcNGdP98oGGoZW4cm+5dfDxgnwAP2zJ97hPX+nwXcPBnD0j/5J5z4QHxv7l0WpiLqpE8q2McLmWI7Jgjb/q71IoBwAuqzZs2LR80iPjIsKi3nn70xbJnb0eTmWdMa6qhJGi7le0W7RgRcdL0xkzatGIo6oUgKZpIBVdzjiIWZ6Yi1JCKTSt/v6RQ3CMwCmIARi6DiuT12/+hYb4mESvR6tQKbTqri7L6q/79wJo2qTpWb9Nlh37D+54c/HM1Z/+5nEDxOq6kqqEDR/xl0WL5z78j7sSmzbu0bW/rnsURV2z9iNLDvxXW/XQlDHNGdYIwC+/7arBvfvPSWUoqnmi8HiNj62ecKedszAQgEv18/FFASgq/WHn+kmPjAPw4ZJ1sVEtvB4dkpcxq7tCUWJHjRyzZeu6y1KvYKw2/VA0jfkuo5J1gvjVwQTAGBhD/ZUDhKIiVIbKxuYtGwHINjRLbgETVY7SKyBJkukqPQkgIiL2bAsTEpW1m8dlLnt/vadM9csBrFCFMncxgB27tj06fSUhDNxOiJ6SkmrtMf/Vd012piimmOi4lFYtvly79rmnuRF8yyQ6uFOSzFkvPFgeuFErjL1t4n13T/e4OXjFO60XWAFUhMo4lJddPmCMjWqhaxLAKq7vShL9I/+P5KbNTLMeuxLXIaGuCB6PO+dQDoC2KR0d9kh32dn7FmPG0WNHgjk5pWTz9+t7pvVt3vQyt9tdoQFJmmZ8//33AFJatU9q3EXTy0Acmmb2TOu7YtkPNocSHRmvafyM8T80CNeJ0+ASiEs3cOvoSX16D6rx4dXTMrm9x22lD70AeeUuAoSbKL319usBDBk0rGdaX00zQJi/eKQJgFLq1Yq+3rjmnrum6prpj3AR1IBQV4SS0oL9B/YC6NQh3TSDWistKDxeUHACgNPhBD/T8FiS6NIPF900enyl0EkAXCJyqfW96V17qCrVNBuIDq5oGrfMmWcLnaKqSmOimxzOzXV7ymoyjLSWPBETndg4oVnQR50d02SM8eCmDNaMXbHSq5NaN2cEByFM8xIQL6BYVaTe//Aty8Z8w3WjGYN/2sgAUCrLslpQnPv0zEmjRo5pe0lqeSEJQY0IdUUoLjppbXTv3t00WRDRpiaAUpcrIizqrHen68aUyTMjw2N0vZLPgqzI23ZstrYv69yNSNxfsOz0vlHdIyggXqWlJY0i42qSQ8WXrUzXL8TDPMhnJlFt/OMV75w4euICXENQmNw1YdwMr9cXO6QbJ//9nwXWdssWHQhRZFkBIEm6RHleXt4PO9ZPf/yheyY8MOam+91lRu3bZf83CGlFoJSUW+aiGsXzmrgDu1kRYJzt4WxGhiWD+xaQyv+XEPOXX/ZY2+lpvbweHUSp6fiTUjkyshEs63Q9gwASkfj8+bMqmVEvOnePnwbAGiB8t33LH355en3hc2Vu36Mi/2jOjzuzUlq26Zc5yJ9Nq/wPLqYMNSakFUGW1W3btlrbl7Rpb+gXIGqIcBAdAExafnKJGh9/ugxA23ZtJNj9K4I1C2hjzCgpKQagqmowntehBAeY1+148P7ppa4iKofXyUUwo1TXCaBYxoIdP31v/f+wYSP69xsFoKT4WJMmzRLiGzeKjAPADEVWYDAXIIFAyMG5EcqKIHm1opy83dabRs4Ej9sMsmeGO52GF8ElRDYrZP6xAqtkTT9pGRG6dLoiPq6J2+317QkJRAeXgrgG3TSdBvMACA+PrIE3LZcheWHaQPTajaJjBgEAyQtTrbCCWyUEAIhnYL/RtXgB54Cu+xaDqWzs+8U3WuyXOezyzt1Nk0kSNU1mAQCEGQbq9cpfKBDKigCX23Uo5wCAIYOGEShAMOkopHBnZExMLACXp9hpj6nJF5oApRTfb/M9jjIyrjl1TZtbCdTO2sUlw/CUlBQBcNjD/JoSDDK4AWKWuPLzcmtzxN40qUlkeEKNDrkwhoxzgXMY/iXc+JhEK21BA0pvG0KEriJQSgpOHLemjqkd03Sd+AcIZ8Z0OMIS4hPh88kJ3hvHt1IlUb5/vy+MIj4msYpWJ5WVlBZERyafsUWaALUiXoJcIvFB3CCazeZ4f9Grb7/zVg0OPBtjb5s48a4ZWsh08nOmWXILcAC8XicmCVlCVxEAHM79zdpIbpYS/FGMGc7wCABH8nOTmrSvvttKgOXYW/7A9+1qGRE6d0prlty6sglAl2Xnss/f8nrYzSP/dkZFoAWFf+w/8Hv/q68O/sqtA2GGed3KX26aNOKGe2t47JmIjYvQNG6lFarF014cCIEs+9qq3e7wxyycIge+HEfgRLXVb1fiOiR0FUFV5V/277C227VJ5by89u7ZHwtJSZcAyMvPS2rSvqrPeXm7KSw5BiAmKs7r9iXmzMs7YhkRLknpaFPDy1e/rKM41z/6dPHTM944W6Y2yRdt1boT5zV6LJsgAJjTHhPprM0GzRjzBw7Wu+cqM5ncrk2nrzeuAeDVSoFwfzRBRSxXDmJz8FfmPz38+nEx0Yn18GbrmBDMj2Ahud1l+w/8AsCmRMdG12A9nzF07tAFwOHDv0lStZ3KESavWrv06ms7XX1tp/2/b6cyAKKqZM8v31o7xMfHVT6CyLJ9+841bVunprTsdOamRik5VnAEQEpKG36u+RFYrXJu1xAiaJrW70/XWdvFJcWUktMyU3FwCk7sYXzh27OKT/6RmJgYyNMvCJqQVQQTwLoNKwHcfPMtHo8e/KUyxmNi4wAcyd9/hpPn5uVMe8xXxfjg7wcAAJKma/Pmz05PTwfgdDYyzUC5AUppcWne7H9Nv/eeabp2licPpbDyPrVu1alGbhSCapAuad3e+l2ys3+sagciKwqRT8564eGcQzkzJr/i9Zj1cX5U54RgY5VAGDg9lPubVW6wSUKiqqg1Gv5FR8b3vqLv2++8JcvEn06n4p1WuuuUVu179xrIDKIo8tJlb40aMX7a5OcBbP/xGwCybLcS9TCz7B8zbn/owVmxUS2q94fzJWKjVP75158AtGzeroLDjKAiks0uKYoaKGnhjymuCur14LFpzwOYO/85ZpaBO6xMVpRSVaWAtGv35rvuGZXU5JInZ8zzlBG/F4mgZoRglTcCYsqyfdfub1ev/QzAQw88Fu6M47wGa/qSpLjcJzZ9s374jbeqshOS4Q9b9n8FiCNMLi0ryM7e8dyseZSEuz0nP1j28tHjubf/ZWJsdNOY2Kh//+eN2LjI2JgEt6c068dVU2aMf/C+J7p3zdQ0s/rkzj7pMZj3lXlPXHvtDVd0H8iYmMqejmSzY+Xq95Z8+E5UdFhCfJLPeYSgmlhSCVyKahTXvXv3ZcveP16Q3yolSdM0t6f02PHDG75d+8r8f/xx/Pf7/zajzxXXeb3MX6BNzBpqTOhlTOEUhFFK335v5rwFcwCs/WKX0x5XkzECB1fyj+8ZOjLjX8++mnnlKF33gsunuuUQRiTvt5s3bPpmw959e1JSUjIz+/yp93DNqwCGzWHu/3370mXv/7Z/T3RUVGqHqwZde2OkM96/9HAGRaCUEitdyvxX303rPNgw3KJpngKlNHtP1tgJg623Wzb+yo1IkDNIrZXSmlMZJa5j6776ZPuP3x76/VhMbESbNh1at2rVI/2a2NhYQyfMwNn8rwRnIjTXGiTGjN8O/AxgyKBhMVFx3hqF8xMTXE5skpTSqv2X61ZcnTFa16uqz8kpZ+FXXTG0z5XX67obBIrs0DSvFeDs9dCkxl0n35+meQmIbrNTrweMcX+TraaHExOmQilf99VnALqk9jJ0K+RGLINVQpJoQUEgH4xHL7ORSF/x1SoMsRI48ZXbZYrTFj/8+vHXXXsnAMBUFBWArhteDwADUpVnEARLHdoRrIS5lpxzX1JjwiBp4IRQ9+o1KwH06tGXmzV8wJoqAIVG3HHb+NVrVha5csEd1UwpfQVLrVKuuq75e7u1RGf6K6BSr6e8puuZS6EqIF5NYx9//vak+56gJAbEK+TgdEyTxcQElnLsSphvnM+rrLxq1emxshWZIMyfzsgEeIVSK2aFjEaCc6QOFcEE0X1CwB0gbq95FKYTnFIZR/JzrZ3S03rVuL6wpIF4NI31yxwGYPXqzxT1PJ/SQX87l1RVzd636ejRgqt6ZwI+N8jz+OoGi9PpLN/mJq35SqH1o4jpWC1Th43V72FG9PzjO+/9+4g77vxz7tEtiqJSiuzdWQBGjRwTF53sT9FfoxNzgCtyxNOPPz9z9nTdOHkhbqAKiAlg/sLZY2+b2DypvZUrUnA6jPFGURHWdudOaeCy6NshQh0qAgWXwQmRvM/Mmp6VlbX/wO/rvlotSZRSecvWbwCMGHYTY6j508OXy0DXtX6ZIwGs37DCZrMBuJDFdjjAFUXesSsrKytr9IixmsZBeH2u7nORaN68RYV2KNZl6pg6HdASBsJtanjW9v+z/qN71wGGoR07nr985bKxt01s3bIrY0bNs+UFxpNUUhctWDHtsYknCvJk2X4hH0QEoLJMxt83+F/PvhrTqJV/ZiuicarEjAz3h6VyBUTz21+FgtYxdTvF5QBMRjL7DEhPT//84w2XpV6hqPy1tx5vnBA7YdwDnjLpPM1yjBmpHXs89MDUl+bNkCS/2aKWmx0HJHBqs9ne/e/z/TIG9cu40RDThbMQaHhhYfY6vA7BKdTtGMEEdM1Lpk95wa5GPv/iM+8teW78PSNycg588sGPnNlALOujeR7XSXXde9PwSUVFRV98+W9VvVBjBNWG7Tu+fP31eY9PfdXjhr9GqODsOMMjbDZHXV+FwEcd+iOYvmAVYjrtMf+a9XpOzuFjBUd6pA9o3jyZGzYQ/ZRU/Of8RbpmPvfPN++ddGtcfEL3rv297tO8lc4HYoLT/D/ypj42ctmSbPD/kcbNy2tVUCoH8spY/t2cgjBwBWCACW4D+GmlbuT09PSsrKzoRvESKU+HI+yLdUzdzhrKV/45Z45mya27pvZp2fxSzsJ9RZYDvkDnPBU3AQpigDvmzlm0fMXHv/62t1YDYDhMZ4krd868hxe99kOjyLig3BYaAoRSqii2UldRiesYiKkoNoDCVGGqgCRTZ6nrREHhUQA2h+kvbFGpvcXG+HI6nZodX1B3hIjPIgGs6s7pN9AAAAZ8SURBVGO4cHG7EiKmTX6+tLSselfZc4BAckU6E56ctkhVVb/nTEOHU1lRfspe+8GHrwMoLCrSPPzWMXdc2WMQuFNW5ILiA28uenn/79kAYDoy+lz15z+PtknRQMABSVXUqKhYAGHhjeroNgRVECKKUPHRcYEs8yZjEnhYeJjT/xivJaxErJxo+v9K0h4q46fstZ989t+/P/BspLMJoe5Nm1f//ZG/3TPhgXG3TiksyRszrs+Tj85/sMOzlJKcvG3DRw/a9/PeJ2fMq+CNblqVGgEkNmlslfYVhAIh4k5nVnhdyG8hlldy7X4L8Z254fvPchAGbs8/nv3gpLumTX4pNqoFAG5E/Kn38Mw+A+YtmJN3dO8/Ztz+5KPz0y+7VpbV3Py9w0cPArB85bIjRyqV3qMUURHxAMJskfUte31DJkQUQVAf4Aq4BKl4+qMPv/jC66qiVkwt16pVWwBDR2c0SWjeM22Qrhuc65bvKYDkpKSYmKiKWkypHBMb499u8GaXekOIzBoE9QKuKLavv/mkfbtOXS/r4/VYFS58ndmqx214cevN97ndupU9vWOH9A7tunm0k1MfeRIAEEiNXW5NjIqumwoxgioRiiAIGqLpOubNn/38s+8wQwU0cF+6Wk3X8o4csvZqe0mq21MCbgOUpCbt35z/iS+d7GmzqnBnFICIiFgxawgdxKxBEDy01FUiq2pyYqphePxBygxQSkqPbvp2PYBRI8domgGuAvAXWSGA4peDwKzBNFlUdCwAzsSUIYQQiiAIHhbujHrnjS8q+2hLsoJDh32VNbql9STk9BwHVZhyGePxMYkX5DIF54FQBEHwKAA4CwepmNOKEGJu/8GX0r5d205BxnTIsgogpVWLcGekCAYLHYQiCGpOJR9wruva7j27ASQnJcVFN7f2qHwA9xfaDbQ3w9CcYY1iYuP/R5w46gtCEQTB4y8JVdlG6PIUWNWW+l89lEphIJ7TcuHTquJTmM2haB4uIqBDCqEIgvNCUWwHf99tbad2uJwQBaTKLHj0dA80p8N5Zc9BVr1cQYggFEFwvuzZ6yuy1LFjF0M3AKPCY18qdZ3Y+/M2SsmpjY0r4PKtN0/UNDFGCCGEIgiCh4MwVaXgVkY8GQAh7LutWwB07Nwy0pkAogMyuGIFRMuy+l3Wqp3ZWZJET81zYeXdJRqgl2edEQ2yzhE/gCBYZNkBYPtP2yCVQfJa3VhnJy1PhE7tr3I4wnz50YkJSYPppLL2+MyHBg4YUkUpba6Ay7LsBLf55hTEEHXZ6hyhCIIgkfKP7+yV2Wz8PYPu/fsIwACgqmTdV6usj6Mi4hkz/AsKDFxSVHP9xo9uvN5KqI1TLIhU5iVlh3ft3gzJBeh+LRDeSnWMUARBUCiK/PWG1dZ2mcvKGUd0dvLFl54eNXIMAM3QKA3YCGXZceRY9pyX/zl+7COa99SzUUoLSw4PHJI2dsLgKY9OINQLwKrsehHuRXAGxA8gqBlxMU3+dvd0RY6wOcwX5z7xwH0P3z3hYQDfbf3K7fYqiqwoss0WdvjIzkem3vPCs+857XH+1QdSvtYgSTRr22Zr++uNa0pdHnDVn2dJUJcIRRAEha5r11x9S+OE2D6ZV8XHJO4/uOvRp+5Jbtps0MBbnGrywvlLdu/JfnHulH2/7Nj3y46Fi5+Y9tg9j097tXWrS6s0Dei60aN7ZnJSEoBhw0Y4Hc7TsjAK6obQqw0tCFm4TOSSTZtXZ+/e4yo9OaD/4C6d+uoaAxTVph8vPPx91tc7du5whkd07HBp714DJUQwVm0/p5SW6X+4illsXAQ3IkAMEBNcEbpQtwhFEAQNYTBtsiITYpomkySq614QrTz9tCyrhJgAdM30ey6jYk6ESvjyNcsgJjgBYf70zUIR6hLhLiYIGk5BDMPwzfZ9kc7cViEJij8CqtKKQTU93NILy3ZA/OcXclDXCDuCQCAIIBRBIBAEEIogEAgCCEUQCAQBhCIIBIIAQhEEAkEAoQgCgSCAUASBQBBAKIJAIAggFEEgEAQQiiAQCAIIRRAIBAGEIggEggBCEQQCQQChCAKBIIBQBIFAEEAogkAgCCAUQSAQBBCKIBAIAghFEAgEAYQiCASCAEIRBAJBAKEIAoEggFAEgUAQQCiCQCAIIBRBIBAEEIogEAgCCEUQCAQBhCIIBIIAQhEEAkEAoQgCgSCAUASBQBBAKIJAIAjw/6yMBrayUuU1AAAAAElFTkSuQmCC)\n"
   ]
  },
  {
   "cell_type": "markdown",
   "metadata": {
    "id": "dPP44ZXAVgBR"
   },
   "source": [
    "Use the world population dataset, model Rank using poisson distribution and compute p(X>100)."
   ]
  },
  {
   "cell_type": "code",
   "execution_count": null,
   "metadata": {
    "colab": {
     "base_uri": "https://localhost:8080/"
    },
    "id": "dfqzMmx2YLbj",
    "outputId": "3635e35b-344d-4da4-abfd-182a3bae10d5"
   },
   "outputs": [
    {
     "name": "stdout",
     "output_type": "stream",
     "text": [
      "[1] 0.9443986\n"
     ]
    }
   ],
   "source": [
    "%%R\n",
    "worldpopn=read.csv('/content/world_population.csv')\n",
    "X=worldpopn$Rank\n",
    "lam=mean(X) \n",
    "1-ppois(100,lam)"
   ]
  },
  {
   "cell_type": "markdown",
   "metadata": {
    "id": "st80SfFCbfFm"
   },
   "source": [
    "## Uniform distribution\n",
    "A uniform distribution is a type of probability distribution in which all outcomes have the same probability."
   ]
  },
  {
   "cell_type": "markdown",
   "metadata": {
    "id": "JZ31ZSCb9siK"
   },
   "source": [
    "Use world population dataset, model Rank using uniform distribution, and compute P(1<Temp<25).\n",
    "\n"
   ]
  },
  {
   "cell_type": "code",
   "execution_count": null,
   "metadata": {
    "colab": {
     "base_uri": "https://localhost:8080/"
    },
    "id": "FvyUszIifGHF",
    "outputId": "f62d71f7-dce6-448c-aa75-68ce785e11bd"
   },
   "outputs": [
    {
     "name": "stdout",
     "output_type": "stream",
     "text": [
      "[1] 0.2103004\n"
     ]
    }
   ],
   "source": [
    "%%R\n",
    "X=worldpopn$Rank\n",
    "a=min(X)\n",
    "b=max(X)\n",
    "punif(50,a,b)-punif(1,a,b)"
   ]
  },
  {
   "cell_type": "markdown",
   "metadata": {
    "id": "hl7cDlbmWI_k"
   },
   "source": [
    "# Hypothesis Testing\n",
    "## HT of Variance"
   ]
  },
  {
   "cell_type": "markdown",
   "metadata": {
    "id": "zdLkaxKPExdh"
   },
   "source": [
    "# Lower one sided Hypothesis Testing of Variance:\n",
    "\n",
    "\n",
    "![Lower on sided normal distribution.png](data:image/png;base64,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)"
   ]
  },
  {
   "cell_type": "markdown",
   "metadata": {
    "id": "hBndsQKQNrNW"
   },
   "source": [
    "Test whether the variance of the variable X2022.Population is greater than the variance of the variable X2020.Population at the 5% level of significance.\n",
    "\n",
    "**Null Hypothesis H0:** The variance of the 2022 population is greater than variance of the 2020 population.\n",
    "\n",
    "**Alternative Hypothesis H1:** The variance of the 2022 population is less than or equal to the 2020 population. "
   ]
  },
  {
   "cell_type": "code",
   "execution_count": null,
   "metadata": {
    "colab": {
     "base_uri": "https://localhost:8080/"
    },
    "id": "hVy88qzlJ7lg",
    "outputId": "44b2a022-8221-4762-c560-1b2e644e4000"
   },
   "outputs": [
    {
     "name": "stdout",
     "output_type": "stream",
     "text": [
      "[1] \"test.value is: \"  \"1.01742980390377\"\n",
      "[1] \"c.value is : \"     \"0.805770511298001\"\n"
     ]
    }
   ],
   "source": [
    "%%R\n",
    "#Our claim is that varinace of X2022.Population column is greate than variance of X2020.Population column at at 5% level of signifinace.\n",
    "#H0: sigma_2022 population>sigma_2020 population\n",
    "#H1: sigma_2022 population<=sigma_2020 population\n",
    "worldpopn=read.csv('/content/world_population.csv')\n",
    "head(worldpopn)\n",
    "X1=worldpopn$X2022.Population\n",
    "X2=worldpopn$X2020.Population\n",
    "ss1=var(X1)\n",
    "ss2=var(X2)\n",
    "n1=length(X1)\n",
    "n2=length(X2)\n",
    "alpha=0.05\n",
    "\n",
    "test.value=ss1/ss2\n",
    "c.value=qf(alpha,n1-1,n2-1)\n",
    "\n",
    "print(c('test.value is: ',test.value))\n",
    "print(c('c.value is : ',c.value))\n",
    "\n",
    "\n",
    "#since t.value> c.value H0 is accepted. i.e  The variance of the 2022 population is greater than variance of the 2020 population."
   ]
  },
  {
   "cell_type": "markdown",
   "metadata": {
    "id": "rERJ1C9VU0g2"
   },
   "source": [
    "## HT of Mean\n"
   ]
  },
  {
   "cell_type": "markdown",
   "metadata": {
    "id": "OzwU75t_FUSt"
   },
   "source": [
    "# Lower one sided Hypothesis Testing of Mean:"
   ]
  },
  {
   "cell_type": "markdown",
   "metadata": {
    "id": "ixM4XQfzFvHv"
   },
   "source": [
    "Test whether the mean of the variable Growth Rate is greater than 1 or not at 5% level of significance."
   ]
  },
  {
   "cell_type": "markdown",
   "metadata": {
    "id": "fqubT216GTqP"
   },
   "source": [
    "**Null Hypothesis H0:**The mean of the Growth Rate is greater than 1.    \n",
    "**Alternative Hypothesis H1:**The mean of the Growth Rate is less than or equal to 1."
   ]
  },
  {
   "cell_type": "code",
   "execution_count": null,
   "metadata": {
    "colab": {
     "base_uri": "https://localhost:8080/"
    },
    "id": "uMfTbUXPGSGK",
    "outputId": "b499bead-0004-4a33-894f-47113b2e1587"
   },
   "outputs": [
    {
     "name": "stdout",
     "output_type": "stream",
     "text": [
      "[1] \"test.value is: \"  \"10.9454956619931\"\n",
      "[1] \"c.value is : \"     \"-1.64485362695147\"\n"
     ]
    }
   ],
   "source": [
    "%%R\n",
    "#Our claim is that mean of Growth Rate column is greater than 1 at 5% level of signifinace.\n",
    "X=worldpopn$Growth.Rate\n",
    "#H0: mu>1 , H1:mu<=1   \n",
    "mu0=1\n",
    "alpha=0.05\n",
    "xbar=mean(X) \n",
    "s=sd(X)\n",
    "n=length(X)\n",
    "test.value=(xbar-mu0)/(s/sqrt(n))\n",
    "\n",
    "c.value=qnorm(alpha)\n",
    "\n",
    "print(c('test.value is: ',test.value))\n",
    "print(c('c.value is : ',c.value))\n",
    "# since test.value> c.value therefore H0 is accepted. i.e The mean of the Growth Rate is greater than 1."
   ]
  },
  {
   "cell_type": "markdown",
   "metadata": {
    "id": "YBFfYEmioBxc"
   },
   "source": [
    "## HT of Proportion:"
   ]
  },
  {
   "cell_type": "markdown",
   "metadata": {
    "id": "aacjLyGuKSsE"
   },
   "source": [
    "## Upper one sided Hypothesis Testing of Proportion:\n",
    "\n",
    "![upper.png](data:image/png;base64,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)\n",
    "\n"
   ]
  },
  {
   "cell_type": "markdown",
   "metadata": {
    "id": "XGfXe9AcMcs0"
   },
   "source": [
    "Test whether the ratio of ones in the variable world population percentage is less than 0.60 at the 5% level of significance.  "
   ]
  },
  {
   "cell_type": "markdown",
   "metadata": {
    "id": "JDW--8jMKfPO"
   },
   "source": [
    "**Null Hypothesis H0:**Proportion of world population percentage is less than 0.9.\n",
    "\n",
    "**Alternative Hypothesis H1:**Proprtion of world population percentage is greater than or equal to 0.9."
   ]
  },
  {
   "cell_type": "code",
   "execution_count": null,
   "metadata": {
    "colab": {
     "base_uri": "https://localhost:8080/"
    },
    "id": "E0Kt0QFKIbv_",
    "outputId": "e6669515-9c6f-4eb2-aefb-05f993abf1f1"
   },
   "outputs": [
    {
     "name": "stdout",
     "output_type": "stream",
     "text": [
      "[1] \"test.value is: \"  \"-24.115747417492\"\n",
      "[1] \"c.value is : \"    \"1.64485362695147\"\n"
     ]
    }
   ],
   "source": [
    "%%R\n",
    "#Our claim is that the ratio's of o's in world population percentage column is less than 0.60 at 5% level of signifinace.\n",
    "X=worldpopn$World.Population.Percentage\n",
    "table(X)\n",
    "\n",
    "#step 1  H0: p<0.9   H1: p>=0.9\n",
    "p0=0.9\n",
    "n=length(X)\n",
    "phat=sum(X)/n\n",
    "\n",
    "#step 2: \n",
    "alpha=0.05\n",
    "\n",
    "#step 3:\n",
    "test.value=(phat-p0)/sqrt(p0*(1-p0)/n)\n",
    "\n",
    "#step 4\n",
    "c.value=qnorm(1-alpha)\n",
    "\n",
    "print(c('test.value is: ',test.value))\n",
    "print(c('c.value is : ',c.value))\n",
    "\n",
    "#step5\n",
    "#since  test.value < c.value   therefore H0 is accepted i.e Proportion of world population percentage is less than 0.9."
   ]
  }
 ],
 "metadata": {
  "colab": {
   "collapsed_sections": [
    "KknswyVKVRtr"
   ],
   "provenance": []
  },
  "kernelspec": {
   "display_name": "Python 3 (ipykernel)",
   "language": "python",
   "name": "python3"
  },
  "language_info": {
   "codemirror_mode": {
    "name": "ipython",
    "version": 3
   },
   "file_extension": ".py",
   "mimetype": "text/x-python",
   "name": "python",
   "nbconvert_exporter": "python",
   "pygments_lexer": "ipython3",
   "version": "3.9.7"
  }
 },
 "nbformat": 4,
 "nbformat_minor": 1
}

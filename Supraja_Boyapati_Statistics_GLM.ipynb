{
  "nbformat": 4,
  "nbformat_minor": 0,
  "metadata": {
    "colab": {
      "provenance": []
    },
    "kernelspec": {
      "name": "python3",
      "display_name": "Python 3"
    },
    "language_info": {
      "name": "python"
    }
  },
  "cells": [
    {
      "cell_type": "code",
      "execution_count": 1,
      "metadata": {
        "colab": {
          "base_uri": "https://localhost:8080/"
        },
        "id": "rweCVgWnTw1a",
        "outputId": "0513e68d-b41e-4a9a-98bc-4cc880826f1c"
      },
      "outputs": [
        {
          "output_type": "stream",
          "name": "stdout",
          "text": [
            "Looking in indexes: https://pypi.org/simple, https://us-python.pkg.dev/colab-wheels/public/simple/\n",
            "Collecting rpy2==3.5.1\n",
            "  Downloading rpy2-3.5.1.tar.gz (201 kB)\n",
            "\u001b[2K     \u001b[90m━━━━━━━━━━━━━━━━━━━━━━━━━━━━━━━━━━━━━━━\u001b[0m \u001b[32m201.7/201.7 KB\u001b[0m \u001b[31m9.3 MB/s\u001b[0m eta \u001b[36m0:00:00\u001b[0m\n",
            "\u001b[?25h  Preparing metadata (setup.py) ... \u001b[?25l\u001b[?25hdone\n",
            "Requirement already satisfied: cffi>=1.10.0 in /usr/local/lib/python3.8/dist-packages (from rpy2==3.5.1) (1.15.1)\n",
            "Requirement already satisfied: jinja2 in /usr/local/lib/python3.8/dist-packages (from rpy2==3.5.1) (2.11.3)\n",
            "Requirement already satisfied: pytz in /usr/local/lib/python3.8/dist-packages (from rpy2==3.5.1) (2022.7.1)\n",
            "Requirement already satisfied: tzlocal in /usr/local/lib/python3.8/dist-packages (from rpy2==3.5.1) (1.5.1)\n",
            "Requirement already satisfied: pycparser in /usr/local/lib/python3.8/dist-packages (from cffi>=1.10.0->rpy2==3.5.1) (2.21)\n",
            "Requirement already satisfied: MarkupSafe>=0.23 in /usr/local/lib/python3.8/dist-packages (from jinja2->rpy2==3.5.1) (2.0.1)\n",
            "Building wheels for collected packages: rpy2\n",
            "  Building wheel for rpy2 (setup.py) ... \u001b[?25l\u001b[?25hdone\n",
            "  Created wheel for rpy2: filename=rpy2-3.5.1-cp38-cp38-linux_x86_64.whl size=318379 sha256=17fdbfd905a42cfa9a3beab95a6255c248d704be3efe1fb010f6f110b12c26b2\n",
            "  Stored in directory: /root/.cache/pip/wheels/6b/40/7d/f63e87fd83e8b99ee837c8e3489081c4b3489134bc520235ed\n",
            "Successfully built rpy2\n",
            "Installing collected packages: rpy2\n",
            "  Attempting uninstall: rpy2\n",
            "    Found existing installation: rpy2 3.5.5\n",
            "    Uninstalling rpy2-3.5.5:\n",
            "      Successfully uninstalled rpy2-3.5.5\n",
            "Successfully installed rpy2-3.5.1\n"
          ]
        }
      ],
      "source": [
        "!pip install rpy2==3.5.1"
      ]
    },
    {
      "cell_type": "code",
      "source": [
        "%load_ext rpy2.ipython"
      ],
      "metadata": {
        "id": "hlwY8g-TV7bv"
      },
      "execution_count": 2,
      "outputs": []
    },
    {
      "cell_type": "markdown",
      "source": [
        "### **Logistic Regression and GLM:**"
      ],
      "metadata": {
        "id": "WHQyKLcykBKO"
      }
    },
    {
      "cell_type": "markdown",
      "source": [
        "#### Read the dataset into variable df"
      ],
      "metadata": {
        "id": "olDcDfUEkOs6"
      }
    },
    {
      "cell_type": "code",
      "source": [
        "%%R\n",
        "df=read.csv('/content/sample_data/airline_passenger_satisfaction.csv')\n",
        "head(df)"
      ],
      "metadata": {
        "colab": {
          "base_uri": "https://localhost:8080/"
        },
        "id": "1QN-hpAJWuRC",
        "outputId": "3bc440ca-3026-42f7-9072-b6eb140edec5"
      },
      "execution_count": 3,
      "outputs": [
        {
          "output_type": "stream",
          "name": "stdout",
          "text": [
            "  ID Gender Age Customer.Type Type.of.Travel    Class Flight.Distance\n",
            "1  1   Male  48    First-time       Business Business             821\n",
            "2  2 Female  35     Returning       Business Business             821\n",
            "3  3   Male  41     Returning       Business Business             853\n",
            "4  4   Male  50     Returning       Business Business            1905\n",
            "5  5 Female  49     Returning       Business Business            3470\n",
            "6  6   Male  43     Returning       Business Business            3788\n",
            "  Departure.Delay Arrival.Delay Departure.and.Arrival.Time.Convenience\n",
            "1               2             5                                      3\n",
            "2              26            39                                      2\n",
            "3               0             0                                      4\n",
            "4               0             0                                      2\n",
            "5               0             1                                      3\n",
            "6               0             0                                      4\n",
            "  Ease.of.Online.Booking Check.in.Service Online.Boarding Gate.Location\n",
            "1                      3                4               3             3\n",
            "2                      2                3               5             2\n",
            "3                      4                4               5             4\n",
            "4                      2                3               4             2\n",
            "5                      3                3               5             3\n",
            "6                      4                3               5             4\n",
            "  On.board.Service Seat.Comfort Leg.Room.Service Cleanliness Food.and.Drink\n",
            "1                3            5                2           5              5\n",
            "2                5            4                5           5              3\n",
            "3                3            5                3           5              5\n",
            "4                5            5                5           4              4\n",
            "5                3            4                4           5              4\n",
            "6                4            4                4           3              3\n",
            "  In.flight.Service In.flight.Wifi.Service In.flight.Entertainment\n",
            "1                 5                      3                       5\n",
            "2                 5                      2                       5\n",
            "3                 3                      4                       3\n",
            "4                 5                      2                       5\n",
            "5                 3                      3                       3\n",
            "6                 4                      4                       4\n",
            "  Baggage.Handling            Satisfaction\n",
            "1                5 Neutral or Dissatisfied\n",
            "2                5               Satisfied\n",
            "3                3               Satisfied\n",
            "4                5               Satisfied\n",
            "5                3               Satisfied\n",
            "6                4               Satisfied\n"
          ]
        }
      ]
    },
    {
      "cell_type": "markdown",
      "source": [
        "#### Here the customer ID will be just to represent the ID, so hence not considered. Therefore, dropping the ‘ID’ column from the dataset"
      ],
      "metadata": {
        "id": "axrfVKktkyFH"
      }
    },
    {
      "cell_type": "code",
      "source": [
        "%%R\n",
        "df1=df[ ,-which(names(df) %in% c(\"ID\"))]\n",
        "head(df1)"
      ],
      "metadata": {
        "colab": {
          "base_uri": "https://localhost:8080/"
        },
        "id": "FfQ-quwjcDD-",
        "outputId": "46b849ad-f4c9-4808-8b38-1554cbe73fb8"
      },
      "execution_count": 4,
      "outputs": [
        {
          "output_type": "stream",
          "name": "stdout",
          "text": [
            "  Gender Age Customer.Type Type.of.Travel    Class Flight.Distance\n",
            "1   Male  48    First-time       Business Business             821\n",
            "2 Female  35     Returning       Business Business             821\n",
            "3   Male  41     Returning       Business Business             853\n",
            "4   Male  50     Returning       Business Business            1905\n",
            "5 Female  49     Returning       Business Business            3470\n",
            "6   Male  43     Returning       Business Business            3788\n",
            "  Departure.Delay Arrival.Delay Departure.and.Arrival.Time.Convenience\n",
            "1               2             5                                      3\n",
            "2              26            39                                      2\n",
            "3               0             0                                      4\n",
            "4               0             0                                      2\n",
            "5               0             1                                      3\n",
            "6               0             0                                      4\n",
            "  Ease.of.Online.Booking Check.in.Service Online.Boarding Gate.Location\n",
            "1                      3                4               3             3\n",
            "2                      2                3               5             2\n",
            "3                      4                4               5             4\n",
            "4                      2                3               4             2\n",
            "5                      3                3               5             3\n",
            "6                      4                3               5             4\n",
            "  On.board.Service Seat.Comfort Leg.Room.Service Cleanliness Food.and.Drink\n",
            "1                3            5                2           5              5\n",
            "2                5            4                5           5              3\n",
            "3                3            5                3           5              5\n",
            "4                5            5                5           4              4\n",
            "5                3            4                4           5              4\n",
            "6                4            4                4           3              3\n",
            "  In.flight.Service In.flight.Wifi.Service In.flight.Entertainment\n",
            "1                 5                      3                       5\n",
            "2                 5                      2                       5\n",
            "3                 3                      4                       3\n",
            "4                 5                      2                       5\n",
            "5                 3                      3                       3\n",
            "6                 4                      4                       4\n",
            "  Baggage.Handling            Satisfaction\n",
            "1                5 Neutral or Dissatisfied\n",
            "2                5               Satisfied\n",
            "3                3               Satisfied\n",
            "4                5               Satisfied\n",
            "5                3               Satisfied\n",
            "6                4               Satisfied\n"
          ]
        }
      ]
    },
    {
      "cell_type": "markdown",
      "source": [],
      "metadata": {
        "id": "X8Obdr89lFCQ"
      }
    },
    {
      "cell_type": "markdown",
      "source": [
        "### Label Encoding"
      ],
      "metadata": {
        "id": "FHewX2B7lFWw"
      }
    },
    {
      "cell_type": "markdown",
      "source": [
        "#### Installing the superml packages"
      ],
      "metadata": {
        "id": "kl0Z0TtNlUKT"
      }
    },
    {
      "cell_type": "code",
      "source": [
        "%%R \n",
        "#label encoding in R \n",
        "install.packages('superml')"
      ],
      "metadata": {
        "colab": {
          "base_uri": "https://localhost:8080/"
        },
        "id": "JuaK_xWecJk3",
        "outputId": "d45578ac-41fa-4992-ba6d-edfe7dad0b74"
      },
      "execution_count": 5,
      "outputs": [
        {
          "output_type": "stream",
          "name": "stderr",
          "text": [
            "WARNING:rpy2.rinterface_lib.callbacks:R[write to console]: Installing package into ‘/usr/local/lib/R/site-library’\n",
            "(as ‘lib’ is unspecified)\n",
            "\n",
            "WARNING:rpy2.rinterface_lib.callbacks:R[write to console]: also installing the dependencies ‘Rcpp’, ‘Metrics’, ‘BH’, ‘RcppArmadillo’\n",
            "\n",
            "\n",
            "WARNING:rpy2.rinterface_lib.callbacks:R[write to console]: trying URL 'https://cran.rstudio.com/src/contrib/Rcpp_1.0.10.tar.gz'\n",
            "\n",
            "WARNING:rpy2.rinterface_lib.callbacks:R[write to console]: Content type 'application/x-gzip'\n",
            "WARNING:rpy2.rinterface_lib.callbacks:R[write to console]:  length 2936173 bytes (2.8 MB)\n",
            "\n",
            "WARNING:rpy2.rinterface_lib.callbacks:R[write to console]: =\n",
            "WARNING:rpy2.rinterface_lib.callbacks:R[write to console]: =\n",
            "WARNING:rpy2.rinterface_lib.callbacks:R[write to console]: =\n",
            "WARNING:rpy2.rinterface_lib.callbacks:R[write to console]: =\n",
            "WARNING:rpy2.rinterface_lib.callbacks:R[write to console]: =\n",
            "WARNING:rpy2.rinterface_lib.callbacks:R[write to console]: =\n",
            "WARNING:rpy2.rinterface_lib.callbacks:R[write to console]: =\n",
            "WARNING:rpy2.rinterface_lib.callbacks:R[write to console]: =\n",
            "WARNING:rpy2.rinterface_lib.callbacks:R[write to console]: =\n",
            "WARNING:rpy2.rinterface_lib.callbacks:R[write to console]: =\n",
            "WARNING:rpy2.rinterface_lib.callbacks:R[write to console]: =\n",
            "WARNING:rpy2.rinterface_lib.callbacks:R[write to console]: =\n",
            "WARNING:rpy2.rinterface_lib.callbacks:R[write to console]: =\n",
            "WARNING:rpy2.rinterface_lib.callbacks:R[write to console]: =\n",
            "WARNING:rpy2.rinterface_lib.callbacks:R[write to console]: =\n",
            "WARNING:rpy2.rinterface_lib.callbacks:R[write to console]: =\n",
            "WARNING:rpy2.rinterface_lib.callbacks:R[write to console]: =\n",
            "WARNING:rpy2.rinterface_lib.callbacks:R[write to console]: =\n",
            "WARNING:rpy2.rinterface_lib.callbacks:R[write to console]: =\n",
            "WARNING:rpy2.rinterface_lib.callbacks:R[write to console]: =\n",
            "WARNING:rpy2.rinterface_lib.callbacks:R[write to console]: =\n",
            "WARNING:rpy2.rinterface_lib.callbacks:R[write to console]: =\n",
            "WARNING:rpy2.rinterface_lib.callbacks:R[write to console]: =\n",
            "WARNING:rpy2.rinterface_lib.callbacks:R[write to console]: =\n",
            "WARNING:rpy2.rinterface_lib.callbacks:R[write to console]: =\n",
            "WARNING:rpy2.rinterface_lib.callbacks:R[write to console]: =\n",
            "WARNING:rpy2.rinterface_lib.callbacks:R[write to console]: =\n",
            "WARNING:rpy2.rinterface_lib.callbacks:R[write to console]: =\n",
            "WARNING:rpy2.rinterface_lib.callbacks:R[write to console]: =\n",
            "WARNING:rpy2.rinterface_lib.callbacks:R[write to console]: =\n",
            "WARNING:rpy2.rinterface_lib.callbacks:R[write to console]: =\n",
            "WARNING:rpy2.rinterface_lib.callbacks:R[write to console]: =\n",
            "WARNING:rpy2.rinterface_lib.callbacks:R[write to console]: =\n",
            "WARNING:rpy2.rinterface_lib.callbacks:R[write to console]: =\n",
            "WARNING:rpy2.rinterface_lib.callbacks:R[write to console]: =\n",
            "WARNING:rpy2.rinterface_lib.callbacks:R[write to console]: =\n",
            "WARNING:rpy2.rinterface_lib.callbacks:R[write to console]: =\n",
            "WARNING:rpy2.rinterface_lib.callbacks:R[write to console]: =\n",
            "WARNING:rpy2.rinterface_lib.callbacks:R[write to console]: =\n",
            "WARNING:rpy2.rinterface_lib.callbacks:R[write to console]: =\n",
            "WARNING:rpy2.rinterface_lib.callbacks:R[write to console]: =\n",
            "WARNING:rpy2.rinterface_lib.callbacks:R[write to console]: =\n",
            "WARNING:rpy2.rinterface_lib.callbacks:R[write to console]: =\n",
            "WARNING:rpy2.rinterface_lib.callbacks:R[write to console]: =\n",
            "WARNING:rpy2.rinterface_lib.callbacks:R[write to console]: =\n",
            "WARNING:rpy2.rinterface_lib.callbacks:R[write to console]: =\n",
            "WARNING:rpy2.rinterface_lib.callbacks:R[write to console]: =\n",
            "WARNING:rpy2.rinterface_lib.callbacks:R[write to console]: =\n",
            "WARNING:rpy2.rinterface_lib.callbacks:R[write to console]: =\n",
            "WARNING:rpy2.rinterface_lib.callbacks:R[write to console]: =\n",
            "WARNING:rpy2.rinterface_lib.callbacks:R[write to console]: \n",
            "\n",
            "WARNING:rpy2.rinterface_lib.callbacks:R[write to console]: downloaded 2.8 MB\n",
            "\n",
            "\n",
            "WARNING:rpy2.rinterface_lib.callbacks:R[write to console]: trying URL 'https://cran.rstudio.com/src/contrib/Metrics_0.1.4.tar.gz'\n",
            "\n",
            "WARNING:rpy2.rinterface_lib.callbacks:R[write to console]: Content type 'application/x-gzip'\n",
            "WARNING:rpy2.rinterface_lib.callbacks:R[write to console]:  length 14898 bytes (14 KB)\n",
            "\n",
            "WARNING:rpy2.rinterface_lib.callbacks:R[write to console]: =\n",
            "WARNING:rpy2.rinterface_lib.callbacks:R[write to console]: =\n",
            "WARNING:rpy2.rinterface_lib.callbacks:R[write to console]: =\n",
            "WARNING:rpy2.rinterface_lib.callbacks:R[write to console]: =\n",
            "WARNING:rpy2.rinterface_lib.callbacks:R[write to console]: =\n",
            "WARNING:rpy2.rinterface_lib.callbacks:R[write to console]: =\n",
            "WARNING:rpy2.rinterface_lib.callbacks:R[write to console]: =\n",
            "WARNING:rpy2.rinterface_lib.callbacks:R[write to console]: =\n",
            "WARNING:rpy2.rinterface_lib.callbacks:R[write to console]: =\n",
            "WARNING:rpy2.rinterface_lib.callbacks:R[write to console]: =\n",
            "WARNING:rpy2.rinterface_lib.callbacks:R[write to console]: =\n",
            "WARNING:rpy2.rinterface_lib.callbacks:R[write to console]: =\n",
            "WARNING:rpy2.rinterface_lib.callbacks:R[write to console]: =\n",
            "WARNING:rpy2.rinterface_lib.callbacks:R[write to console]: =\n",
            "WARNING:rpy2.rinterface_lib.callbacks:R[write to console]: =\n",
            "WARNING:rpy2.rinterface_lib.callbacks:R[write to console]: =\n",
            "WARNING:rpy2.rinterface_lib.callbacks:R[write to console]: =\n",
            "WARNING:rpy2.rinterface_lib.callbacks:R[write to console]: =\n",
            "WARNING:rpy2.rinterface_lib.callbacks:R[write to console]: =\n",
            "WARNING:rpy2.rinterface_lib.callbacks:R[write to console]: =\n",
            "WARNING:rpy2.rinterface_lib.callbacks:R[write to console]: =\n",
            "WARNING:rpy2.rinterface_lib.callbacks:R[write to console]: =\n",
            "WARNING:rpy2.rinterface_lib.callbacks:R[write to console]: =\n",
            "WARNING:rpy2.rinterface_lib.callbacks:R[write to console]: =\n",
            "WARNING:rpy2.rinterface_lib.callbacks:R[write to console]: =\n",
            "WARNING:rpy2.rinterface_lib.callbacks:R[write to console]: =\n",
            "WARNING:rpy2.rinterface_lib.callbacks:R[write to console]: =\n",
            "WARNING:rpy2.rinterface_lib.callbacks:R[write to console]: =\n",
            "WARNING:rpy2.rinterface_lib.callbacks:R[write to console]: =\n",
            "WARNING:rpy2.rinterface_lib.callbacks:R[write to console]: =\n",
            "WARNING:rpy2.rinterface_lib.callbacks:R[write to console]: =\n",
            "WARNING:rpy2.rinterface_lib.callbacks:R[write to console]: =\n",
            "WARNING:rpy2.rinterface_lib.callbacks:R[write to console]: =\n",
            "WARNING:rpy2.rinterface_lib.callbacks:R[write to console]: =\n",
            "WARNING:rpy2.rinterface_lib.callbacks:R[write to console]: =\n",
            "WARNING:rpy2.rinterface_lib.callbacks:R[write to console]: =\n",
            "WARNING:rpy2.rinterface_lib.callbacks:R[write to console]: =\n",
            "WARNING:rpy2.rinterface_lib.callbacks:R[write to console]: =\n",
            "WARNING:rpy2.rinterface_lib.callbacks:R[write to console]: =\n",
            "WARNING:rpy2.rinterface_lib.callbacks:R[write to console]: =\n",
            "WARNING:rpy2.rinterface_lib.callbacks:R[write to console]: =\n",
            "WARNING:rpy2.rinterface_lib.callbacks:R[write to console]: =\n",
            "WARNING:rpy2.rinterface_lib.callbacks:R[write to console]: =\n",
            "WARNING:rpy2.rinterface_lib.callbacks:R[write to console]: =\n",
            "WARNING:rpy2.rinterface_lib.callbacks:R[write to console]: =\n",
            "WARNING:rpy2.rinterface_lib.callbacks:R[write to console]: =\n",
            "WARNING:rpy2.rinterface_lib.callbacks:R[write to console]: =\n",
            "WARNING:rpy2.rinterface_lib.callbacks:R[write to console]: =\n",
            "WARNING:rpy2.rinterface_lib.callbacks:R[write to console]: =\n",
            "WARNING:rpy2.rinterface_lib.callbacks:R[write to console]: =\n",
            "WARNING:rpy2.rinterface_lib.callbacks:R[write to console]: \n",
            "\n",
            "WARNING:rpy2.rinterface_lib.callbacks:R[write to console]: downloaded 14 KB\n",
            "\n",
            "\n",
            "WARNING:rpy2.rinterface_lib.callbacks:R[write to console]: trying URL 'https://cran.rstudio.com/src/contrib/BH_1.81.0-1.tar.gz'\n",
            "\n",
            "WARNING:rpy2.rinterface_lib.callbacks:R[write to console]: Content type 'application/x-gzip'\n",
            "WARNING:rpy2.rinterface_lib.callbacks:R[write to console]:  length 13938979 bytes (13.3 MB)\n",
            "\n",
            "WARNING:rpy2.rinterface_lib.callbacks:R[write to console]: =\n",
            "WARNING:rpy2.rinterface_lib.callbacks:R[write to console]: =\n",
            "WARNING:rpy2.rinterface_lib.callbacks:R[write to console]: =\n",
            "WARNING:rpy2.rinterface_lib.callbacks:R[write to console]: =\n",
            "WARNING:rpy2.rinterface_lib.callbacks:R[write to console]: =\n",
            "WARNING:rpy2.rinterface_lib.callbacks:R[write to console]: =\n",
            "WARNING:rpy2.rinterface_lib.callbacks:R[write to console]: =\n",
            "WARNING:rpy2.rinterface_lib.callbacks:R[write to console]: =\n",
            "WARNING:rpy2.rinterface_lib.callbacks:R[write to console]: =\n",
            "WARNING:rpy2.rinterface_lib.callbacks:R[write to console]: =\n",
            "WARNING:rpy2.rinterface_lib.callbacks:R[write to console]: =\n",
            "WARNING:rpy2.rinterface_lib.callbacks:R[write to console]: =\n",
            "WARNING:rpy2.rinterface_lib.callbacks:R[write to console]: =\n",
            "WARNING:rpy2.rinterface_lib.callbacks:R[write to console]: =\n",
            "WARNING:rpy2.rinterface_lib.callbacks:R[write to console]: =\n",
            "WARNING:rpy2.rinterface_lib.callbacks:R[write to console]: =\n",
            "WARNING:rpy2.rinterface_lib.callbacks:R[write to console]: =\n",
            "WARNING:rpy2.rinterface_lib.callbacks:R[write to console]: =\n",
            "WARNING:rpy2.rinterface_lib.callbacks:R[write to console]: =\n",
            "WARNING:rpy2.rinterface_lib.callbacks:R[write to console]: =\n",
            "WARNING:rpy2.rinterface_lib.callbacks:R[write to console]: =\n",
            "WARNING:rpy2.rinterface_lib.callbacks:R[write to console]: =\n",
            "WARNING:rpy2.rinterface_lib.callbacks:R[write to console]: =\n",
            "WARNING:rpy2.rinterface_lib.callbacks:R[write to console]: =\n",
            "WARNING:rpy2.rinterface_lib.callbacks:R[write to console]: =\n",
            "WARNING:rpy2.rinterface_lib.callbacks:R[write to console]: =\n",
            "WARNING:rpy2.rinterface_lib.callbacks:R[write to console]: =\n",
            "WARNING:rpy2.rinterface_lib.callbacks:R[write to console]: =\n",
            "WARNING:rpy2.rinterface_lib.callbacks:R[write to console]: =\n",
            "WARNING:rpy2.rinterface_lib.callbacks:R[write to console]: =\n",
            "WARNING:rpy2.rinterface_lib.callbacks:R[write to console]: =\n",
            "WARNING:rpy2.rinterface_lib.callbacks:R[write to console]: =\n",
            "WARNING:rpy2.rinterface_lib.callbacks:R[write to console]: =\n",
            "WARNING:rpy2.rinterface_lib.callbacks:R[write to console]: =\n",
            "WARNING:rpy2.rinterface_lib.callbacks:R[write to console]: =\n",
            "WARNING:rpy2.rinterface_lib.callbacks:R[write to console]: =\n",
            "WARNING:rpy2.rinterface_lib.callbacks:R[write to console]: =\n",
            "WARNING:rpy2.rinterface_lib.callbacks:R[write to console]: =\n",
            "WARNING:rpy2.rinterface_lib.callbacks:R[write to console]: =\n",
            "WARNING:rpy2.rinterface_lib.callbacks:R[write to console]: =\n",
            "WARNING:rpy2.rinterface_lib.callbacks:R[write to console]: =\n",
            "WARNING:rpy2.rinterface_lib.callbacks:R[write to console]: =\n",
            "WARNING:rpy2.rinterface_lib.callbacks:R[write to console]: =\n",
            "WARNING:rpy2.rinterface_lib.callbacks:R[write to console]: =\n",
            "WARNING:rpy2.rinterface_lib.callbacks:R[write to console]: =\n",
            "WARNING:rpy2.rinterface_lib.callbacks:R[write to console]: =\n",
            "WARNING:rpy2.rinterface_lib.callbacks:R[write to console]: =\n",
            "WARNING:rpy2.rinterface_lib.callbacks:R[write to console]: =\n",
            "WARNING:rpy2.rinterface_lib.callbacks:R[write to console]: =\n",
            "WARNING:rpy2.rinterface_lib.callbacks:R[write to console]: =\n",
            "WARNING:rpy2.rinterface_lib.callbacks:R[write to console]: \n",
            "\n",
            "WARNING:rpy2.rinterface_lib.callbacks:R[write to console]: downloaded 13.3 MB\n",
            "\n",
            "\n",
            "WARNING:rpy2.rinterface_lib.callbacks:R[write to console]: trying URL 'https://cran.rstudio.com/src/contrib/RcppArmadillo_0.11.4.3.1.tar.gz'\n",
            "\n",
            "WARNING:rpy2.rinterface_lib.callbacks:R[write to console]: Content type 'application/x-gzip'\n",
            "WARNING:rpy2.rinterface_lib.callbacks:R[write to console]:  length 1365909 bytes (1.3 MB)\n",
            "\n",
            "WARNING:rpy2.rinterface_lib.callbacks:R[write to console]: =\n",
            "WARNING:rpy2.rinterface_lib.callbacks:R[write to console]: =\n",
            "WARNING:rpy2.rinterface_lib.callbacks:R[write to console]: =\n",
            "WARNING:rpy2.rinterface_lib.callbacks:R[write to console]: =\n",
            "WARNING:rpy2.rinterface_lib.callbacks:R[write to console]: =\n",
            "WARNING:rpy2.rinterface_lib.callbacks:R[write to console]: =\n",
            "WARNING:rpy2.rinterface_lib.callbacks:R[write to console]: =\n",
            "WARNING:rpy2.rinterface_lib.callbacks:R[write to console]: =\n",
            "WARNING:rpy2.rinterface_lib.callbacks:R[write to console]: =\n",
            "WARNING:rpy2.rinterface_lib.callbacks:R[write to console]: =\n",
            "WARNING:rpy2.rinterface_lib.callbacks:R[write to console]: =\n",
            "WARNING:rpy2.rinterface_lib.callbacks:R[write to console]: =\n",
            "WARNING:rpy2.rinterface_lib.callbacks:R[write to console]: =\n",
            "WARNING:rpy2.rinterface_lib.callbacks:R[write to console]: =\n",
            "WARNING:rpy2.rinterface_lib.callbacks:R[write to console]: =\n",
            "WARNING:rpy2.rinterface_lib.callbacks:R[write to console]: =\n",
            "WARNING:rpy2.rinterface_lib.callbacks:R[write to console]: =\n",
            "WARNING:rpy2.rinterface_lib.callbacks:R[write to console]: =\n",
            "WARNING:rpy2.rinterface_lib.callbacks:R[write to console]: =\n",
            "WARNING:rpy2.rinterface_lib.callbacks:R[write to console]: =\n",
            "WARNING:rpy2.rinterface_lib.callbacks:R[write to console]: =\n",
            "WARNING:rpy2.rinterface_lib.callbacks:R[write to console]: =\n",
            "WARNING:rpy2.rinterface_lib.callbacks:R[write to console]: =\n",
            "WARNING:rpy2.rinterface_lib.callbacks:R[write to console]: =\n",
            "WARNING:rpy2.rinterface_lib.callbacks:R[write to console]: =\n",
            "WARNING:rpy2.rinterface_lib.callbacks:R[write to console]: =\n",
            "WARNING:rpy2.rinterface_lib.callbacks:R[write to console]: =\n",
            "WARNING:rpy2.rinterface_lib.callbacks:R[write to console]: =\n",
            "WARNING:rpy2.rinterface_lib.callbacks:R[write to console]: =\n",
            "WARNING:rpy2.rinterface_lib.callbacks:R[write to console]: =\n",
            "WARNING:rpy2.rinterface_lib.callbacks:R[write to console]: =\n",
            "WARNING:rpy2.rinterface_lib.callbacks:R[write to console]: =\n",
            "WARNING:rpy2.rinterface_lib.callbacks:R[write to console]: =\n",
            "WARNING:rpy2.rinterface_lib.callbacks:R[write to console]: =\n",
            "WARNING:rpy2.rinterface_lib.callbacks:R[write to console]: =\n",
            "WARNING:rpy2.rinterface_lib.callbacks:R[write to console]: =\n",
            "WARNING:rpy2.rinterface_lib.callbacks:R[write to console]: =\n",
            "WARNING:rpy2.rinterface_lib.callbacks:R[write to console]: =\n",
            "WARNING:rpy2.rinterface_lib.callbacks:R[write to console]: =\n",
            "WARNING:rpy2.rinterface_lib.callbacks:R[write to console]: =\n",
            "WARNING:rpy2.rinterface_lib.callbacks:R[write to console]: =\n",
            "WARNING:rpy2.rinterface_lib.callbacks:R[write to console]: =\n",
            "WARNING:rpy2.rinterface_lib.callbacks:R[write to console]: =\n",
            "WARNING:rpy2.rinterface_lib.callbacks:R[write to console]: =\n",
            "WARNING:rpy2.rinterface_lib.callbacks:R[write to console]: =\n",
            "WARNING:rpy2.rinterface_lib.callbacks:R[write to console]: =\n",
            "WARNING:rpy2.rinterface_lib.callbacks:R[write to console]: =\n",
            "WARNING:rpy2.rinterface_lib.callbacks:R[write to console]: =\n",
            "WARNING:rpy2.rinterface_lib.callbacks:R[write to console]: =\n",
            "WARNING:rpy2.rinterface_lib.callbacks:R[write to console]: =\n",
            "WARNING:rpy2.rinterface_lib.callbacks:R[write to console]: \n",
            "\n",
            "WARNING:rpy2.rinterface_lib.callbacks:R[write to console]: downloaded 1.3 MB\n",
            "\n",
            "\n",
            "WARNING:rpy2.rinterface_lib.callbacks:R[write to console]: trying URL 'https://cran.rstudio.com/src/contrib/superml_0.5.6.tar.gz'\n",
            "\n",
            "WARNING:rpy2.rinterface_lib.callbacks:R[write to console]: Content type 'application/x-gzip'\n",
            "WARNING:rpy2.rinterface_lib.callbacks:R[write to console]:  length 189475 bytes (185 KB)\n",
            "\n",
            "WARNING:rpy2.rinterface_lib.callbacks:R[write to console]: =\n",
            "WARNING:rpy2.rinterface_lib.callbacks:R[write to console]: =\n",
            "WARNING:rpy2.rinterface_lib.callbacks:R[write to console]: =\n",
            "WARNING:rpy2.rinterface_lib.callbacks:R[write to console]: =\n",
            "WARNING:rpy2.rinterface_lib.callbacks:R[write to console]: =\n",
            "WARNING:rpy2.rinterface_lib.callbacks:R[write to console]: =\n",
            "WARNING:rpy2.rinterface_lib.callbacks:R[write to console]: =\n",
            "WARNING:rpy2.rinterface_lib.callbacks:R[write to console]: =\n",
            "WARNING:rpy2.rinterface_lib.callbacks:R[write to console]: =\n",
            "WARNING:rpy2.rinterface_lib.callbacks:R[write to console]: =\n",
            "WARNING:rpy2.rinterface_lib.callbacks:R[write to console]: =\n",
            "WARNING:rpy2.rinterface_lib.callbacks:R[write to console]: =\n",
            "WARNING:rpy2.rinterface_lib.callbacks:R[write to console]: =\n",
            "WARNING:rpy2.rinterface_lib.callbacks:R[write to console]: =\n",
            "WARNING:rpy2.rinterface_lib.callbacks:R[write to console]: =\n",
            "WARNING:rpy2.rinterface_lib.callbacks:R[write to console]: =\n",
            "WARNING:rpy2.rinterface_lib.callbacks:R[write to console]: =\n",
            "WARNING:rpy2.rinterface_lib.callbacks:R[write to console]: =\n",
            "WARNING:rpy2.rinterface_lib.callbacks:R[write to console]: =\n",
            "WARNING:rpy2.rinterface_lib.callbacks:R[write to console]: =\n",
            "WARNING:rpy2.rinterface_lib.callbacks:R[write to console]: =\n",
            "WARNING:rpy2.rinterface_lib.callbacks:R[write to console]: =\n",
            "WARNING:rpy2.rinterface_lib.callbacks:R[write to console]: =\n",
            "WARNING:rpy2.rinterface_lib.callbacks:R[write to console]: =\n",
            "WARNING:rpy2.rinterface_lib.callbacks:R[write to console]: =\n",
            "WARNING:rpy2.rinterface_lib.callbacks:R[write to console]: =\n",
            "WARNING:rpy2.rinterface_lib.callbacks:R[write to console]: =\n",
            "WARNING:rpy2.rinterface_lib.callbacks:R[write to console]: =\n",
            "WARNING:rpy2.rinterface_lib.callbacks:R[write to console]: =\n",
            "WARNING:rpy2.rinterface_lib.callbacks:R[write to console]: =\n",
            "WARNING:rpy2.rinterface_lib.callbacks:R[write to console]: =\n",
            "WARNING:rpy2.rinterface_lib.callbacks:R[write to console]: =\n",
            "WARNING:rpy2.rinterface_lib.callbacks:R[write to console]: =\n",
            "WARNING:rpy2.rinterface_lib.callbacks:R[write to console]: =\n",
            "WARNING:rpy2.rinterface_lib.callbacks:R[write to console]: =\n",
            "WARNING:rpy2.rinterface_lib.callbacks:R[write to console]: =\n",
            "WARNING:rpy2.rinterface_lib.callbacks:R[write to console]: =\n",
            "WARNING:rpy2.rinterface_lib.callbacks:R[write to console]: =\n",
            "WARNING:rpy2.rinterface_lib.callbacks:R[write to console]: =\n",
            "WARNING:rpy2.rinterface_lib.callbacks:R[write to console]: =\n",
            "WARNING:rpy2.rinterface_lib.callbacks:R[write to console]: =\n",
            "WARNING:rpy2.rinterface_lib.callbacks:R[write to console]: =\n",
            "WARNING:rpy2.rinterface_lib.callbacks:R[write to console]: =\n",
            "WARNING:rpy2.rinterface_lib.callbacks:R[write to console]: =\n",
            "WARNING:rpy2.rinterface_lib.callbacks:R[write to console]: =\n",
            "WARNING:rpy2.rinterface_lib.callbacks:R[write to console]: =\n",
            "WARNING:rpy2.rinterface_lib.callbacks:R[write to console]: =\n",
            "WARNING:rpy2.rinterface_lib.callbacks:R[write to console]: =\n",
            "WARNING:rpy2.rinterface_lib.callbacks:R[write to console]: =\n",
            "WARNING:rpy2.rinterface_lib.callbacks:R[write to console]: =\n",
            "WARNING:rpy2.rinterface_lib.callbacks:R[write to console]: \n",
            "\n",
            "WARNING:rpy2.rinterface_lib.callbacks:R[write to console]: downloaded 185 KB\n",
            "\n",
            "\n",
            "WARNING:rpy2.rinterface_lib.callbacks:R[write to console]: \n",
            "\n",
            "WARNING:rpy2.rinterface_lib.callbacks:R[write to console]: \n",
            "WARNING:rpy2.rinterface_lib.callbacks:R[write to console]: The downloaded source packages are in\n",
            "\t‘/tmp/Rtmpma2UxD/downloaded_packages’\n",
            "WARNING:rpy2.rinterface_lib.callbacks:R[write to console]: \n",
            "WARNING:rpy2.rinterface_lib.callbacks:R[write to console]: \n",
            "\n"
          ]
        }
      ]
    },
    {
      "cell_type": "markdown",
      "source": [
        "### Using a labelencoder, convert the satisfaction categorical column into 0 and 1 values.\n",
        "#### Removing 'NA' values in the dataset\n",
        "#### Storing the number of row value in the variable n."
      ],
      "metadata": {
        "id": "pUwPRt4YlgKO"
      }
    },
    {
      "cell_type": "code",
      "source": [
        "%%R \n",
        "library('superml')\n",
        "lbl = LabelEncoder$new()\n",
        "df1$Satisfaction= lbl$fit_transform(df1$Satisfaction)\n",
        "head(df1)\n",
        "\n",
        "data=na.omit(df1)\n",
        "n=nrow(data)\n",
        "head(data)"
      ],
      "metadata": {
        "colab": {
          "base_uri": "https://localhost:8080/"
        },
        "id": "YD_9ek6HcQUJ",
        "outputId": "4a40ac41-6fce-4cac-bd80-dd843cfe15e5"
      },
      "execution_count": 6,
      "outputs": [
        {
          "output_type": "stream",
          "name": "stderr",
          "text": [
            "WARNING:rpy2.rinterface_lib.callbacks:R[write to console]: Loading required package: R6\n",
            "\n"
          ]
        },
        {
          "output_type": "stream",
          "name": "stdout",
          "text": [
            "  Gender Age Customer.Type Type.of.Travel    Class Flight.Distance\n",
            "1   Male  48    First-time       Business Business             821\n",
            "2 Female  35     Returning       Business Business             821\n",
            "3   Male  41     Returning       Business Business             853\n",
            "4   Male  50     Returning       Business Business            1905\n",
            "5 Female  49     Returning       Business Business            3470\n",
            "6   Male  43     Returning       Business Business            3788\n",
            "  Departure.Delay Arrival.Delay Departure.and.Arrival.Time.Convenience\n",
            "1               2             5                                      3\n",
            "2              26            39                                      2\n",
            "3               0             0                                      4\n",
            "4               0             0                                      2\n",
            "5               0             1                                      3\n",
            "6               0             0                                      4\n",
            "  Ease.of.Online.Booking Check.in.Service Online.Boarding Gate.Location\n",
            "1                      3                4               3             3\n",
            "2                      2                3               5             2\n",
            "3                      4                4               5             4\n",
            "4                      2                3               4             2\n",
            "5                      3                3               5             3\n",
            "6                      4                3               5             4\n",
            "  On.board.Service Seat.Comfort Leg.Room.Service Cleanliness Food.and.Drink\n",
            "1                3            5                2           5              5\n",
            "2                5            4                5           5              3\n",
            "3                3            5                3           5              5\n",
            "4                5            5                5           4              4\n",
            "5                3            4                4           5              4\n",
            "6                4            4                4           3              3\n",
            "  In.flight.Service In.flight.Wifi.Service In.flight.Entertainment\n",
            "1                 5                      3                       5\n",
            "2                 5                      2                       5\n",
            "3                 3                      4                       3\n",
            "4                 5                      2                       5\n",
            "5                 3                      3                       3\n",
            "6                 4                      4                       4\n",
            "  Baggage.Handling Satisfaction\n",
            "1                5            0\n",
            "2                5            1\n",
            "3                3            1\n",
            "4                5            1\n",
            "5                3            1\n",
            "6                4            1\n"
          ]
        }
      ]
    },
    {
      "cell_type": "markdown",
      "source": [
        "#### Splitting the 80% of the data into train data and 20% of the data into test data"
      ],
      "metadata": {
        "id": "gpmWxTVwlnkD"
      }
    },
    {
      "cell_type": "code",
      "source": [
        "%%R\n",
        "set.seed(134)\n",
        "indexes=sample(n,n*(80/100)) \n",
        "trainset=data[indexes,]\n",
        "testset=data[-indexes,]"
      ],
      "metadata": {
        "id": "zOCCM_l7c8xc"
      },
      "execution_count": 7,
      "outputs": []
    },
    {
      "cell_type": "markdown",
      "source": [
        "#### Specify the significant variables on the output variable at the level of alpha=0.05"
      ],
      "metadata": {
        "id": "3Ex1a-nPlzpT"
      }
    },
    {
      "cell_type": "code",
      "source": [
        "%%R\n",
        "model=glm(Satisfaction~.,data=data,family=\"binomial\") \n",
        "print(coef(model)) \n",
        "summary(model) "
      ],
      "metadata": {
        "colab": {
          "base_uri": "https://localhost:8080/"
        },
        "id": "6_idNnwJdBcG",
        "outputId": "54af6180-6bff-4217-ade7-c3b95bc148c9"
      },
      "execution_count": 8,
      "outputs": [
        {
          "output_type": "stream",
          "name": "stdout",
          "text": [
            "                           (Intercept)                             GenderMale \n",
            "                         -7.813013e+00                           6.377047e-02 \n",
            "                                   Age                 Customer.TypeReturning \n",
            "                         -8.489984e-03                           2.035678e+00 \n",
            "                Type.of.TravelPersonal                           ClassEconomy \n",
            "                         -2.734543e+00                          -7.164590e-01 \n",
            "                     ClassEconomy Plus                        Flight.Distance \n",
            "                         -8.158726e-01                          -1.725148e-05 \n",
            "                       Departure.Delay                          Arrival.Delay \n",
            "                          4.234910e-03                          -9.117598e-03 \n",
            "Departure.and.Arrival.Time.Convenience                 Ease.of.Online.Booking \n",
            "                         -1.329855e-01                          -1.514039e-01 \n",
            "                      Check.in.Service                        Online.Boarding \n",
            "                          3.274001e-01                           6.080429e-01 \n",
            "                         Gate.Location                       On.board.Service \n",
            "                          2.537080e-02                           3.010045e-01 \n",
            "                          Seat.Comfort                       Leg.Room.Service \n",
            "                          6.434252e-02                           2.501550e-01 \n",
            "                           Cleanliness                         Food.and.Drink \n",
            "                          2.276671e-01                          -2.828073e-02 \n",
            "                     In.flight.Service                 In.flight.Wifi.Service \n",
            "                          1.234869e-01                           4.021186e-01 \n",
            "               In.flight.Entertainment                       Baggage.Handling \n",
            "                          5.936658e-02                           1.328076e-01 \n",
            "\n",
            "Call:\n",
            "glm(formula = Satisfaction ~ ., family = \"binomial\", data = data)\n",
            "\n",
            "Deviance Residuals: \n",
            "    Min       1Q   Median       3Q      Max  \n",
            "-2.8828  -0.4916  -0.1755   0.3882   4.0189  \n",
            "\n",
            "Coefficients:\n",
            "                                         Estimate Std. Error  z value Pr(>|z|)\n",
            "(Intercept)                            -7.813e+00  7.032e-02 -111.110  < 2e-16\n",
            "GenderMale                              6.377e-02  1.741e-02    3.662  0.00025\n",
            "Age                                    -8.490e-03  6.363e-04  -13.342  < 2e-16\n",
            "Customer.TypeReturning                  2.036e+00  2.667e-02   76.323  < 2e-16\n",
            "Type.of.TravelPersonal                 -2.735e+00  2.814e-02  -97.188  < 2e-16\n",
            "ClassEconomy                           -7.165e-01  2.292e-02  -31.256  < 2e-16\n",
            "ClassEconomy Plus                      -8.159e-01  3.707e-02  -22.010  < 2e-16\n",
            "Flight.Distance                        -1.725e-05  1.010e-05   -1.707  0.08777\n",
            "Departure.Delay                         4.235e-03  8.870e-04    4.774 1.80e-06\n",
            "Arrival.Delay                          -9.118e-03  8.758e-04  -10.411  < 2e-16\n",
            "Departure.and.Arrival.Time.Convenience -1.330e-01  7.316e-03  -18.178  < 2e-16\n",
            "Ease.of.Online.Booking                 -1.514e-01  1.011e-02  -14.972  < 2e-16\n",
            "Check.in.Service                        3.274e-01  7.650e-03   42.800  < 2e-16\n",
            "Online.Boarding                         6.080e-01  9.154e-03   66.427  < 2e-16\n",
            "Gate.Location                           2.537e-02  8.188e-03    3.099  0.00194\n",
            "On.board.Service                        3.010e-01  9.113e-03   33.031  < 2e-16\n",
            "Seat.Comfort                            6.434e-02  1.001e-02    6.425 1.32e-10\n",
            "Leg.Room.Service                        2.502e-01  7.623e-03   32.817  < 2e-16\n",
            "Cleanliness                             2.277e-01  1.083e-02   21.026  < 2e-16\n",
            "Food.and.Drink                         -2.828e-02  9.580e-03   -2.952  0.00316\n",
            "In.flight.Service                       1.235e-01  1.076e-02   11.475  < 2e-16\n",
            "In.flight.Wifi.Service                  4.021e-01  1.025e-02   39.228  < 2e-16\n",
            "In.flight.Entertainment                 5.937e-02  1.276e-02    4.651 3.30e-06\n",
            "Baggage.Handling                        1.328e-01  1.022e-02   12.999  < 2e-16\n",
            "                                          \n",
            "(Intercept)                            ***\n",
            "GenderMale                             ***\n",
            "Age                                    ***\n",
            "Customer.TypeReturning                 ***\n",
            "Type.of.TravelPersonal                 ***\n",
            "ClassEconomy                           ***\n",
            "ClassEconomy Plus                      ***\n",
            "Flight.Distance                        .  \n",
            "Departure.Delay                        ***\n",
            "Arrival.Delay                          ***\n",
            "Departure.and.Arrival.Time.Convenience ***\n",
            "Ease.of.Online.Booking                 ***\n",
            "Check.in.Service                       ***\n",
            "Online.Boarding                        ***\n",
            "Gate.Location                          ** \n",
            "On.board.Service                       ***\n",
            "Seat.Comfort                           ***\n",
            "Leg.Room.Service                       ***\n",
            "Cleanliness                            ***\n",
            "Food.and.Drink                         ** \n",
            "In.flight.Service                      ***\n",
            "In.flight.Wifi.Service                 ***\n",
            "In.flight.Entertainment                ***\n",
            "Baggage.Handling                       ***\n",
            "---\n",
            "Signif. codes:  0 ‘***’ 0.001 ‘**’ 0.01 ‘*’ 0.05 ‘.’ 0.1 ‘ ’ 1\n",
            "\n",
            "(Dispersion parameter for binomial family taken to be 1)\n",
            "\n",
            "    Null deviance: 177279  on 129486  degrees of freedom\n",
            "Residual deviance:  86668  on 129463  degrees of freedom\n",
            "AIC: 86716\n",
            "\n",
            "Number of Fisher Scoring iterations: 6\n",
            "\n"
          ]
        }
      ]
    },
    {
      "cell_type": "markdown",
      "source": [
        "#### Except Flight Distance , all other independent variables are significant. Since their p.value<alpha=0.05"
      ],
      "metadata": {
        "id": "tIuVImtkl98w"
      }
    },
    {
      "cell_type": "markdown",
      "source": [
        "#### Predict the output of the test dataset using the trained model"
      ],
      "metadata": {
        "id": "rXkoRm59mDmj"
      }
    },
    {
      "cell_type": "code",
      "source": [
        "%%R\n",
        "trainset.glm=glm(Satisfaction~.,trainset,family=\"binomial\") # ~ sign indicates that we have included all the indipendent varibles.\n",
        "res=predict(trainset.glm,testset, type=\"response\")"
      ],
      "metadata": {
        "id": "SMZ0cokmdGGM"
      },
      "execution_count": 9,
      "outputs": []
    },
    {
      "cell_type": "code",
      "source": [
        "%%R\n",
        "predictedvalues=rep(0,length(res))\n",
        "predictedvalues[res>0.5]=1 # this line indicates the probability of Satisfaction is 1, if the p<0.5 then Satisfaction=0"
      ],
      "metadata": {
        "id": "uwGWggm7dLDg"
      },
      "execution_count": 10,
      "outputs": []
    },
    {
      "cell_type": "markdown",
      "source": [
        "#### Confusion matrix and probability of correctness of predictions"
      ],
      "metadata": {
        "id": "muaDD1ATmK1R"
      }
    },
    {
      "cell_type": "code",
      "source": [
        "%%R\n",
        "actual=testset[,23]\n",
        "confusion_matrix=table(predictedvalues, actualvalues=testset[,23])\n",
        "confusion_matrix"
      ],
      "metadata": {
        "colab": {
          "base_uri": "https://localhost:8080/"
        },
        "id": "V3YrCffbdhzw",
        "outputId": "0d7c53f1-7a9e-48ec-b31f-e300a9b05092"
      },
      "execution_count": 11,
      "outputs": [
        {
          "output_type": "stream",
          "name": "stdout",
          "text": [
            "               actualvalues\n",
            "predictedvalues     0     1\n",
            "              0 13267  1894\n",
            "              1  1383  9354\n"
          ]
        }
      ]
    },
    {
      "cell_type": "markdown",
      "source": [
        "#### True Negative(TN)=13267\n",
        "#### False Positive(FP)=1894\n",
        "#### False Negative(FN)=1383\n",
        "#### True Positive(TP)=9354"
      ],
      "metadata": {
        "id": "1s6Vo-8XmTbG"
      }
    },
    {
      "cell_type": "code",
      "source": [
        "%%R\n",
        "accuracy=mean(predictedvalues==testset[,23]) #accuracy=(TN+TP)/n here n=13267+1894+1383+9354=25898\n",
        "accuracy"
      ],
      "metadata": {
        "colab": {
          "base_uri": "https://localhost:8080/"
        },
        "id": "p9sZBAiSdkoM",
        "outputId": "3e8c63a2-2c15-432b-fec9-d7dc950bd29d"
      },
      "execution_count": 12,
      "outputs": [
        {
          "output_type": "stream",
          "name": "stdout",
          "text": [
            "[1] 0.8734651\n"
          ]
        }
      ]
    },
    {
      "cell_type": "markdown",
      "source": [
        "#### Accuracy is 0.8734"
      ],
      "metadata": {
        "id": "PbEnZgudmeYh"
      }
    }
  ]
}